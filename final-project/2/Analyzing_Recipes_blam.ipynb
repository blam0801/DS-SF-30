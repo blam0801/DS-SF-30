{
 "cells": [
  {
   "cell_type": "markdown",
   "metadata": {},
   "source": [
    "## Project Design Writeup"
   ]
  },
  {
   "cell_type": "markdown",
   "metadata": {},
   "source": [
    "### Problem Statement "
   ]
  },
  {
   "cell_type": "markdown",
   "metadata": {},
   "source": [
    "Eatting healthy is a challenge. Using the Epicurious \"Recipes by Nutrition and Ratings,\" I would like to predict healthy recipes. "
   ]
  },
  {
   "cell_type": "markdown",
   "metadata": {},
   "source": [
    "### Hypothesis"
   ]
  },
  {
   "cell_type": "markdown",
   "metadata": {},
   "source": [
    "Fat and Sodium Content will directly correlate with Calorie count. \n",
    "\n",
    "Certain ingredients will correlate with lower Calorie count "
   ]
  },
  {
   "cell_type": "markdown",
   "metadata": {},
   "source": [
    "### Goal"
   ]
  },
  {
   "cell_type": "markdown",
   "metadata": {},
   "source": [
    "The goal of this project is to predict healthy recipes based on protein, sodium and fat.\n",
    "\n",
    "Secondary goal is to predict healthy recipes (lower calories) based on ingredients, ultimately coming up with a 10 ingredient list that count derive many different healthy recipes."
   ]
  },
  {
   "cell_type": "markdown",
   "metadata": {},
   "source": [
    "### Risks"
   ]
  },
  {
   "cell_type": "markdown",
   "metadata": {},
   "source": [
    "Research has proven that portion size has a strong influence on calorie count and health. There is no information on whether these are single person portion sizes but will make this\n",
    "assumption that they are. "
   ]
  },
  {
   "cell_type": "markdown",
   "metadata": {},
   "source": [
    "## Exploratory Data Analysis "
   ]
  },
  {
   "cell_type": "code",
   "execution_count": 44,
   "metadata": {
    "collapsed": true
   },
   "outputs": [],
   "source": [
    "import os\n",
    "import pandas as pd\n",
    "import matplotlib.pyplot as plt\n",
    "import seaborn as sns\n",
    "import statsmodels.api as sm\n",
    "import numpy as np\n",
    "\n",
    "pd.set_option('display.max_rows', 20)\n",
    "pd.set_option('display.max_columns', 10)\n",
    "pd.set_option('display.notebook_repr_html', True)\n",
    "\n",
    "%matplotlib inline\n",
    "plt.style.use('ggplot')\n",
    "\n",
    "import statsmodels.formula.api as smf\n",
    "from sklearn.neighbors import KNeighborsClassifier"
   ]
  },
  {
   "cell_type": "code",
   "execution_count": 45,
   "metadata": {
    "collapsed": true
   },
   "outputs": [],
   "source": [
    "df = pd.read_csv(('epi_r.csv'))"
   ]
  },
  {
   "cell_type": "code",
   "execution_count": 46,
   "metadata": {
    "collapsed": false
   },
   "outputs": [
    {
     "data": {
      "text/html": [
       "<div>\n",
       "<table border=\"1\" class=\"dataframe\">\n",
       "  <thead>\n",
       "    <tr style=\"text-align: right;\">\n",
       "      <th></th>\n",
       "      <th>title</th>\n",
       "      <th>rating</th>\n",
       "      <th>calories</th>\n",
       "      <th>protein</th>\n",
       "      <th>fat</th>\n",
       "      <th>...</th>\n",
       "      <th>cookbooks</th>\n",
       "      <th>leftovers</th>\n",
       "      <th>snack</th>\n",
       "      <th>snack week</th>\n",
       "      <th>turkey</th>\n",
       "    </tr>\n",
       "  </thead>\n",
       "  <tbody>\n",
       "    <tr>\n",
       "      <th>0</th>\n",
       "      <td>Lentil, Apple, and Turkey Wrap</td>\n",
       "      <td>2.500</td>\n",
       "      <td>426.0</td>\n",
       "      <td>30.0</td>\n",
       "      <td>7.0</td>\n",
       "      <td>...</td>\n",
       "      <td>0.0</td>\n",
       "      <td>0.0</td>\n",
       "      <td>0.0</td>\n",
       "      <td>0.0</td>\n",
       "      <td>1.0</td>\n",
       "    </tr>\n",
       "    <tr>\n",
       "      <th>1</th>\n",
       "      <td>Boudin Blanc Terrine with Red Onion Confit</td>\n",
       "      <td>4.375</td>\n",
       "      <td>403.0</td>\n",
       "      <td>18.0</td>\n",
       "      <td>23.0</td>\n",
       "      <td>...</td>\n",
       "      <td>0.0</td>\n",
       "      <td>0.0</td>\n",
       "      <td>0.0</td>\n",
       "      <td>0.0</td>\n",
       "      <td>0.0</td>\n",
       "    </tr>\n",
       "    <tr>\n",
       "      <th>2</th>\n",
       "      <td>Potato and Fennel Soup Hodge</td>\n",
       "      <td>3.750</td>\n",
       "      <td>165.0</td>\n",
       "      <td>6.0</td>\n",
       "      <td>7.0</td>\n",
       "      <td>...</td>\n",
       "      <td>0.0</td>\n",
       "      <td>0.0</td>\n",
       "      <td>0.0</td>\n",
       "      <td>0.0</td>\n",
       "      <td>0.0</td>\n",
       "    </tr>\n",
       "    <tr>\n",
       "      <th>3</th>\n",
       "      <td>Mahi-Mahi in Tomato Olive Sauce</td>\n",
       "      <td>5.000</td>\n",
       "      <td>NaN</td>\n",
       "      <td>NaN</td>\n",
       "      <td>NaN</td>\n",
       "      <td>...</td>\n",
       "      <td>0.0</td>\n",
       "      <td>0.0</td>\n",
       "      <td>0.0</td>\n",
       "      <td>0.0</td>\n",
       "      <td>0.0</td>\n",
       "    </tr>\n",
       "    <tr>\n",
       "      <th>4</th>\n",
       "      <td>Spinach Noodle Casserole</td>\n",
       "      <td>3.125</td>\n",
       "      <td>547.0</td>\n",
       "      <td>20.0</td>\n",
       "      <td>32.0</td>\n",
       "      <td>...</td>\n",
       "      <td>0.0</td>\n",
       "      <td>0.0</td>\n",
       "      <td>0.0</td>\n",
       "      <td>0.0</td>\n",
       "      <td>0.0</td>\n",
       "    </tr>\n",
       "    <tr>\n",
       "      <th>5</th>\n",
       "      <td>The Best Blts</td>\n",
       "      <td>4.375</td>\n",
       "      <td>948.0</td>\n",
       "      <td>19.0</td>\n",
       "      <td>79.0</td>\n",
       "      <td>...</td>\n",
       "      <td>0.0</td>\n",
       "      <td>0.0</td>\n",
       "      <td>0.0</td>\n",
       "      <td>0.0</td>\n",
       "      <td>0.0</td>\n",
       "    </tr>\n",
       "    <tr>\n",
       "      <th>6</th>\n",
       "      <td>Ham and Spring Vegetable Salad with Shallot Vi...</td>\n",
       "      <td>4.375</td>\n",
       "      <td>NaN</td>\n",
       "      <td>NaN</td>\n",
       "      <td>NaN</td>\n",
       "      <td>...</td>\n",
       "      <td>0.0</td>\n",
       "      <td>0.0</td>\n",
       "      <td>0.0</td>\n",
       "      <td>0.0</td>\n",
       "      <td>0.0</td>\n",
       "    </tr>\n",
       "    <tr>\n",
       "      <th>7</th>\n",
       "      <td>Spicy-Sweet Kumquats</td>\n",
       "      <td>3.750</td>\n",
       "      <td>NaN</td>\n",
       "      <td>NaN</td>\n",
       "      <td>NaN</td>\n",
       "      <td>...</td>\n",
       "      <td>0.0</td>\n",
       "      <td>0.0</td>\n",
       "      <td>0.0</td>\n",
       "      <td>0.0</td>\n",
       "      <td>0.0</td>\n",
       "    </tr>\n",
       "    <tr>\n",
       "      <th>8</th>\n",
       "      <td>Korean Marinated Beef</td>\n",
       "      <td>4.375</td>\n",
       "      <td>170.0</td>\n",
       "      <td>7.0</td>\n",
       "      <td>10.0</td>\n",
       "      <td>...</td>\n",
       "      <td>0.0</td>\n",
       "      <td>0.0</td>\n",
       "      <td>0.0</td>\n",
       "      <td>0.0</td>\n",
       "      <td>0.0</td>\n",
       "    </tr>\n",
       "    <tr>\n",
       "      <th>9</th>\n",
       "      <td>Ham Persillade with Mustard Potato Salad and M...</td>\n",
       "      <td>3.750</td>\n",
       "      <td>602.0</td>\n",
       "      <td>23.0</td>\n",
       "      <td>41.0</td>\n",
       "      <td>...</td>\n",
       "      <td>0.0</td>\n",
       "      <td>0.0</td>\n",
       "      <td>0.0</td>\n",
       "      <td>0.0</td>\n",
       "      <td>0.0</td>\n",
       "    </tr>\n",
       "    <tr>\n",
       "      <th>...</th>\n",
       "      <td>...</td>\n",
       "      <td>...</td>\n",
       "      <td>...</td>\n",
       "      <td>...</td>\n",
       "      <td>...</td>\n",
       "      <td>...</td>\n",
       "      <td>...</td>\n",
       "      <td>...</td>\n",
       "      <td>...</td>\n",
       "      <td>...</td>\n",
       "      <td>...</td>\n",
       "    </tr>\n",
       "    <tr>\n",
       "      <th>20042</th>\n",
       "      <td>Date Purée</td>\n",
       "      <td>2.500</td>\n",
       "      <td>NaN</td>\n",
       "      <td>NaN</td>\n",
       "      <td>NaN</td>\n",
       "      <td>...</td>\n",
       "      <td>0.0</td>\n",
       "      <td>0.0</td>\n",
       "      <td>0.0</td>\n",
       "      <td>0.0</td>\n",
       "      <td>0.0</td>\n",
       "    </tr>\n",
       "    <tr>\n",
       "      <th>20043</th>\n",
       "      <td>Crispy Salt and Pepper Chicken with Caramelize...</td>\n",
       "      <td>5.000</td>\n",
       "      <td>1086.0</td>\n",
       "      <td>78.0</td>\n",
       "      <td>70.0</td>\n",
       "      <td>...</td>\n",
       "      <td>0.0</td>\n",
       "      <td>0.0</td>\n",
       "      <td>0.0</td>\n",
       "      <td>0.0</td>\n",
       "      <td>0.0</td>\n",
       "    </tr>\n",
       "    <tr>\n",
       "      <th>20044</th>\n",
       "      <td>Orange-Tini</td>\n",
       "      <td>3.750</td>\n",
       "      <td>84.0</td>\n",
       "      <td>0.0</td>\n",
       "      <td>0.0</td>\n",
       "      <td>...</td>\n",
       "      <td>0.0</td>\n",
       "      <td>0.0</td>\n",
       "      <td>0.0</td>\n",
       "      <td>0.0</td>\n",
       "      <td>0.0</td>\n",
       "    </tr>\n",
       "    <tr>\n",
       "      <th>20045</th>\n",
       "      <td>Blueberry Compote</td>\n",
       "      <td>3.750</td>\n",
       "      <td>182.0</td>\n",
       "      <td>1.0</td>\n",
       "      <td>0.0</td>\n",
       "      <td>...</td>\n",
       "      <td>0.0</td>\n",
       "      <td>0.0</td>\n",
       "      <td>0.0</td>\n",
       "      <td>0.0</td>\n",
       "      <td>0.0</td>\n",
       "    </tr>\n",
       "    <tr>\n",
       "      <th>20046</th>\n",
       "      <td>Chinese Barbecued Spareribs</td>\n",
       "      <td>3.750</td>\n",
       "      <td>998.0</td>\n",
       "      <td>55.0</td>\n",
       "      <td>80.0</td>\n",
       "      <td>...</td>\n",
       "      <td>0.0</td>\n",
       "      <td>0.0</td>\n",
       "      <td>0.0</td>\n",
       "      <td>0.0</td>\n",
       "      <td>0.0</td>\n",
       "    </tr>\n",
       "    <tr>\n",
       "      <th>20047</th>\n",
       "      <td>Parmesan Puffs</td>\n",
       "      <td>3.125</td>\n",
       "      <td>28.0</td>\n",
       "      <td>2.0</td>\n",
       "      <td>2.0</td>\n",
       "      <td>...</td>\n",
       "      <td>0.0</td>\n",
       "      <td>0.0</td>\n",
       "      <td>0.0</td>\n",
       "      <td>0.0</td>\n",
       "      <td>0.0</td>\n",
       "    </tr>\n",
       "    <tr>\n",
       "      <th>20048</th>\n",
       "      <td>Artichoke and Parmesan Risotto</td>\n",
       "      <td>4.375</td>\n",
       "      <td>671.0</td>\n",
       "      <td>22.0</td>\n",
       "      <td>28.0</td>\n",
       "      <td>...</td>\n",
       "      <td>0.0</td>\n",
       "      <td>0.0</td>\n",
       "      <td>0.0</td>\n",
       "      <td>0.0</td>\n",
       "      <td>0.0</td>\n",
       "    </tr>\n",
       "    <tr>\n",
       "      <th>20049</th>\n",
       "      <td>Turkey Cream Puff Pie</td>\n",
       "      <td>4.375</td>\n",
       "      <td>563.0</td>\n",
       "      <td>31.0</td>\n",
       "      <td>38.0</td>\n",
       "      <td>...</td>\n",
       "      <td>0.0</td>\n",
       "      <td>0.0</td>\n",
       "      <td>0.0</td>\n",
       "      <td>0.0</td>\n",
       "      <td>1.0</td>\n",
       "    </tr>\n",
       "    <tr>\n",
       "      <th>20050</th>\n",
       "      <td>Snapper on Angel Hair with Citrus Cream</td>\n",
       "      <td>4.375</td>\n",
       "      <td>631.0</td>\n",
       "      <td>45.0</td>\n",
       "      <td>24.0</td>\n",
       "      <td>...</td>\n",
       "      <td>0.0</td>\n",
       "      <td>0.0</td>\n",
       "      <td>0.0</td>\n",
       "      <td>0.0</td>\n",
       "      <td>0.0</td>\n",
       "    </tr>\n",
       "    <tr>\n",
       "      <th>20051</th>\n",
       "      <td>Baked Ham with Marmalade-Horseradish Glaze</td>\n",
       "      <td>4.375</td>\n",
       "      <td>560.0</td>\n",
       "      <td>73.0</td>\n",
       "      <td>10.0</td>\n",
       "      <td>...</td>\n",
       "      <td>0.0</td>\n",
       "      <td>0.0</td>\n",
       "      <td>0.0</td>\n",
       "      <td>0.0</td>\n",
       "      <td>0.0</td>\n",
       "    </tr>\n",
       "  </tbody>\n",
       "</table>\n",
       "<p>20052 rows × 680 columns</p>\n",
       "</div>"
      ],
      "text/plain": [
       "                                                   title  rating  calories  \\\n",
       "0                        Lentil, Apple, and Turkey Wrap    2.500     426.0   \n",
       "1            Boudin Blanc Terrine with Red Onion Confit    4.375     403.0   \n",
       "2                          Potato and Fennel Soup Hodge    3.750     165.0   \n",
       "3                       Mahi-Mahi in Tomato Olive Sauce    5.000       NaN   \n",
       "4                              Spinach Noodle Casserole    3.125     547.0   \n",
       "5                                         The Best Blts    4.375     948.0   \n",
       "6      Ham and Spring Vegetable Salad with Shallot Vi...   4.375       NaN   \n",
       "7                                  Spicy-Sweet Kumquats    3.750       NaN   \n",
       "8                                 Korean Marinated Beef    4.375     170.0   \n",
       "9      Ham Persillade with Mustard Potato Salad and M...   3.750     602.0   \n",
       "...                                                  ...     ...       ...   \n",
       "20042                                        Date Purée    2.500       NaN   \n",
       "20043  Crispy Salt and Pepper Chicken with Caramelize...   5.000    1086.0   \n",
       "20044                                       Orange-Tini    3.750      84.0   \n",
       "20045                                 Blueberry Compote    3.750     182.0   \n",
       "20046                       Chinese Barbecued Spareribs    3.750     998.0   \n",
       "20047                                    Parmesan Puffs    3.125      28.0   \n",
       "20048                    Artichoke and Parmesan Risotto    4.375     671.0   \n",
       "20049                             Turkey Cream Puff Pie    4.375     563.0   \n",
       "20050           Snapper on Angel Hair with Citrus Cream    4.375     631.0   \n",
       "20051        Baked Ham with Marmalade-Horseradish Glaze    4.375     560.0   \n",
       "\n",
       "       protein   fat   ...    cookbooks  leftovers  snack  snack week  turkey  \n",
       "0         30.0   7.0   ...          0.0        0.0    0.0         0.0     1.0  \n",
       "1         18.0  23.0   ...          0.0        0.0    0.0         0.0     0.0  \n",
       "2          6.0   7.0   ...          0.0        0.0    0.0         0.0     0.0  \n",
       "3          NaN   NaN   ...          0.0        0.0    0.0         0.0     0.0  \n",
       "4         20.0  32.0   ...          0.0        0.0    0.0         0.0     0.0  \n",
       "5         19.0  79.0   ...          0.0        0.0    0.0         0.0     0.0  \n",
       "6          NaN   NaN   ...          0.0        0.0    0.0         0.0     0.0  \n",
       "7          NaN   NaN   ...          0.0        0.0    0.0         0.0     0.0  \n",
       "8          7.0  10.0   ...          0.0        0.0    0.0         0.0     0.0  \n",
       "9         23.0  41.0   ...          0.0        0.0    0.0         0.0     0.0  \n",
       "...        ...   ...   ...          ...        ...    ...         ...     ...  \n",
       "20042      NaN   NaN   ...          0.0        0.0    0.0         0.0     0.0  \n",
       "20043     78.0  70.0   ...          0.0        0.0    0.0         0.0     0.0  \n",
       "20044      0.0   0.0   ...          0.0        0.0    0.0         0.0     0.0  \n",
       "20045      1.0   0.0   ...          0.0        0.0    0.0         0.0     0.0  \n",
       "20046     55.0  80.0   ...          0.0        0.0    0.0         0.0     0.0  \n",
       "20047      2.0   2.0   ...          0.0        0.0    0.0         0.0     0.0  \n",
       "20048     22.0  28.0   ...          0.0        0.0    0.0         0.0     0.0  \n",
       "20049     31.0  38.0   ...          0.0        0.0    0.0         0.0     1.0  \n",
       "20050     45.0  24.0   ...          0.0        0.0    0.0         0.0     0.0  \n",
       "20051     73.0  10.0   ...          0.0        0.0    0.0         0.0     0.0  \n",
       "\n",
       "[20052 rows x 680 columns]"
      ]
     },
     "execution_count": 46,
     "metadata": {},
     "output_type": "execute_result"
    }
   ],
   "source": [
    "df"
   ]
  },
  {
   "cell_type": "markdown",
   "metadata": {},
   "source": [
    "## Basic Understand of Dataset"
   ]
  },
  {
   "cell_type": "code",
   "execution_count": 47,
   "metadata": {
    "collapsed": false
   },
   "outputs": [
    {
     "name": "stdout",
     "output_type": "stream",
     "text": [
      "                                         title  rating  calories  protein  \\\n",
      "0              Lentil, Apple, and Turkey Wrap    2.500     426.0     30.0   \n",
      "1  Boudin Blanc Terrine with Red Onion Confit    4.375     403.0     18.0   \n",
      "2                Potato and Fennel Soup Hodge    3.750     165.0      6.0   \n",
      "3             Mahi-Mahi in Tomato Olive Sauce    5.000       NaN      NaN   \n",
      "4                    Spinach Noodle Casserole    3.125     547.0     20.0   \n",
      "\n",
      "    fat   ...    cookbooks  leftovers  snack  snack week  turkey  \n",
      "0   7.0   ...          0.0        0.0    0.0         0.0     1.0  \n",
      "1  23.0   ...          0.0        0.0    0.0         0.0     0.0  \n",
      "2   7.0   ...          0.0        0.0    0.0         0.0     0.0  \n",
      "3   NaN   ...          0.0        0.0    0.0         0.0     0.0  \n",
      "4  32.0   ...          0.0        0.0    0.0         0.0     0.0  \n",
      "\n",
      "[5 rows x 680 columns]\n",
      "<class 'pandas.core.frame.DataFrame'>\n",
      "RangeIndex: 20052 entries, 0 to 20051\n",
      "Columns: 680 entries, title to turkey\n",
      "dtypes: float64(679), object(1)\n",
      "memory usage: 104.0+ MB\n",
      "None\n",
      "                        count         mean            std  min   25%    50%  \\\n",
      "rating                20052.0     3.714467       1.340829  0.0  3.75  4.375   \n",
      "calories              15935.0  6322.958017  359046.041242  0.0   NaN    NaN   \n",
      "protein               15890.0   100.160793    3840.318527  0.0   NaN    NaN   \n",
      "fat                   15869.0   346.877497   20456.106859  0.0   NaN    NaN   \n",
      "sodium                15933.0  6225.974895  333318.188891  0.0   NaN    NaN   \n",
      "#cakeweek             20052.0     0.000299       0.017296  0.0  0.00  0.000   \n",
      "#wasteless            20052.0     0.000050       0.007062  0.0  0.00  0.000   \n",
      "22-minute meals       20052.0     0.000848       0.029105  0.0  0.00  0.000   \n",
      "3-ingredient recipes  20052.0     0.001346       0.036671  0.0  0.00  0.000   \n",
      "30 days of groceries  20052.0     0.000349       0.018681  0.0  0.00  0.000   \n",
      "...                       ...          ...            ...  ...   ...    ...   \n",
      "yellow squash         20052.0     0.001247       0.035288  0.0  0.00  0.000   \n",
      "yogurt                20052.0     0.026332       0.160123  0.0  0.00  0.000   \n",
      "yonkers               20052.0     0.000050       0.007062  0.0  0.00  0.000   \n",
      "yuca                  20052.0     0.000299       0.017296  0.0  0.00  0.000   \n",
      "zucchini              20052.0     0.014861       0.121001  0.0  0.00  0.000   \n",
      "cookbooks             20052.0     0.000150       0.012231  0.0  0.00  0.000   \n",
      "leftovers             20052.0     0.000349       0.018681  0.0  0.00  0.000   \n",
      "snack                 20052.0     0.001396       0.037343  0.0  0.00  0.000   \n",
      "snack week            20052.0     0.000948       0.030768  0.0  0.00  0.000   \n",
      "turkey                20052.0     0.022741       0.149080  0.0  0.00  0.000   \n",
      "\n",
      "                        75%         max  \n",
      "rating                4.375         5.0  \n",
      "calories                NaN  30111218.0  \n",
      "protein                 NaN    236489.0  \n",
      "fat                     NaN   1722763.0  \n",
      "sodium                  NaN  27675110.0  \n",
      "#cakeweek             0.000         1.0  \n",
      "#wasteless            0.000         1.0  \n",
      "22-minute meals       0.000         1.0  \n",
      "3-ingredient recipes  0.000         1.0  \n",
      "30 days of groceries  0.000         1.0  \n",
      "...                     ...         ...  \n",
      "yellow squash         0.000         1.0  \n",
      "yogurt                0.000         1.0  \n",
      "yonkers               0.000         1.0  \n",
      "yuca                  0.000         1.0  \n",
      "zucchini              0.000         1.0  \n",
      "cookbooks             0.000         1.0  \n",
      "leftovers             0.000         1.0  \n",
      "snack                 0.000         1.0  \n",
      "snack week            0.000         1.0  \n",
      "turkey                0.000         1.0  \n",
      "\n",
      "[679 rows x 8 columns]\n"
     ]
    }
   ],
   "source": [
    "print df.head(5)\n",
    "print df.info()\n",
    "print df.describe().T"
   ]
  },
  {
   "cell_type": "markdown",
   "metadata": {
    "collapsed": false
   },
   "source": [
    "##### Analysis/Insights\n",
    "\n",
    "There are 680 columns!Most of them are ingredients that make up each recipe.The data is already laid out like dummies variables so no cleaning will be needed there. However, there are many columns that aren't ingredients, so I may wish to get rid of them for my analysis. I would also consider grouping ingredients (i.e. tomatoes, broccoli = vegetables)"
   ]
  },
  {
   "cell_type": "code",
   "execution_count": 48,
   "metadata": {
    "collapsed": false
   },
   "outputs": [
    {
     "data": {
      "text/plain": [
       "Index([u'title', u'rating', u'calories', u'protein', u'fat', u'sodium',\n",
       "       u'#cakeweek', u'#wasteless', u'22-minute meals',\n",
       "       u'3-ingredient recipes',\n",
       "       ...\n",
       "       u'yellow squash', u'yogurt', u'yonkers', u'yuca', u'zucchini',\n",
       "       u'cookbooks', u'leftovers', u'snack', u'snack week', u'turkey'],\n",
       "      dtype='object', length=680)"
      ]
     },
     "execution_count": 48,
     "metadata": {},
     "output_type": "execute_result"
    }
   ],
   "source": [
    "df.columns"
   ]
  },
  {
   "cell_type": "code",
   "execution_count": 49,
   "metadata": {
    "collapsed": false
   },
   "outputs": [
    {
     "data": {
      "text/plain": [
       "title                      0\n",
       "rating                     0\n",
       "calories                4117\n",
       "protein                 4162\n",
       "fat                     4183\n",
       "sodium                  4119\n",
       "#cakeweek                  0\n",
       "#wasteless                 0\n",
       "22-minute meals            0\n",
       "3-ingredient recipes       0\n",
       "                        ... \n",
       "yellow squash              0\n",
       "yogurt                     0\n",
       "yonkers                    0\n",
       "yuca                       0\n",
       "zucchini                   0\n",
       "cookbooks                  0\n",
       "leftovers                  0\n",
       "snack                      0\n",
       "snack week                 0\n",
       "turkey                     0\n",
       "dtype: int64"
      ]
     },
     "execution_count": 49,
     "metadata": {},
     "output_type": "execute_result"
    }
   ],
   "source": [
    "df.isnull().sum()"
   ]
  },
  {
   "cell_type": "code",
   "execution_count": 50,
   "metadata": {
    "collapsed": false
   },
   "outputs": [
    {
     "data": {
      "text/plain": [
       "(array([ 1836.,     0.,   164.,   124.,     0.,   532.,  1489.,  5169.,\n",
       "         8019.,  2719.]),\n",
       " array([ 0. ,  0.5,  1. ,  1.5,  2. ,  2.5,  3. ,  3.5,  4. ,  4.5,  5. ]),\n",
       " <a list of 10 Patch objects>)"
      ]
     },
     "execution_count": 50,
     "metadata": {},
     "output_type": "execute_result"
    },
    {
     "data": {
      "image/png": "[encoded data removed]",
      "text/plain": [
       "<matplotlib.figure.Figure at 0x1492c2d0>"
      ]
     },
     "metadata": {},
     "output_type": "display_data"
    }
   ],
   "source": [
    "x = df.rating\n",
    "y = df.title\n",
    "\n",
    "fig = plt.figure()\n",
    "ax1 = fig.add_subplot(111)\n",
    "ax1.hist(x)\n"
   ]
  },
  {
   "cell_type": "markdown",
   "metadata": {
    "collapsed": false
   },
   "source": [
    "### Analysis/insight \n",
    "\n",
    "The majority of the ratings are above 3.0. It wouldn't be very interesting to do analysis of rating because the data is heavily skewed to the right.' "
   ]
  },
  {
   "cell_type": "markdown",
   "metadata": {},
   "source": [
    "Filter recipes with chicken"
   ]
  },
  {
   "cell_type": "code",
   "execution_count": 51,
   "metadata": {
    "collapsed": false
   },
   "outputs": [
    {
     "data": {
      "text/plain": [
       "title                   1344\n",
       "rating                  1344\n",
       "calories                1049\n",
       "protein                 1049\n",
       "fat                     1049\n",
       "sodium                  1049\n",
       "#cakeweek               1344\n",
       "#wasteless              1344\n",
       "22-minute meals         1344\n",
       "3-ingredient recipes    1344\n",
       "                        ... \n",
       "yellow squash           1344\n",
       "yogurt                  1344\n",
       "yonkers                 1344\n",
       "yuca                    1344\n",
       "zucchini                1344\n",
       "cookbooks               1344\n",
       "leftovers               1344\n",
       "snack                   1344\n",
       "snack week              1344\n",
       "turkey                  1344\n",
       "dtype: int64"
      ]
     },
     "execution_count": 51,
     "metadata": {},
     "output_type": "execute_result"
    }
   ],
   "source": [
    "df[df.chicken == 1.0].count()\n",
    "\n",
    "#There are 1,344 recipes in the dataset that include chicken"
   ]
  },
  {
   "cell_type": "markdown",
   "metadata": {},
   "source": [
    "#### Create a for loop formula that will allow me to see which ingredient appears in the most number of recipes"
   ]
  },
  {
   "cell_type": "code",
   "execution_count": null,
   "metadata": {
    "collapsed": true
   },
   "outputs": [],
   "source": []
  },
  {
   "cell_type": "markdown",
   "metadata": {
    "collapsed": false
   },
   "source": [
    "### Calorie count\n",
    "What is the calorie count for recipes at the various rating levels?\n",
    "Hypothesis is that highly caloric foods will have high ratings "
   ]
  },
  {
   "cell_type": "code",
   "execution_count": 52,
   "metadata": {
    "collapsed": false
   },
   "outputs": [
    {
     "name": "stdout",
     "output_type": "stream",
     "text": [
      "<class 'pandas.core.frame.DataFrame'>\n",
      "RangeIndex: 20052 entries, 0 to 20051\n",
      "Columns: 680 entries, title to turkey\n",
      "dtypes: float64(679), object(1)\n",
      "memory usage: 104.0+ MB\n",
      "None\n",
      "<class 'pandas.core.frame.DataFrame'>\n",
      "Int64Index: 15888 entries, 0 to 20051\n",
      "Columns: 680 entries, title to turkey\n",
      "dtypes: float64(679), object(1)\n",
      "memory usage: 82.5+ MB\n",
      "None\n"
     ]
    }
   ],
   "source": [
    "#drop NAN values in calories, protein, sodium\n",
    "\n",
    "print df.info()\n",
    "drop_featureNA= df.dropna(subset=[['calories', 'protein', 'sodium']])\n",
    "print drop_featureNA.info()"
   ]
  },
  {
   "cell_type": "code",
   "execution_count": 53,
   "metadata": {
    "collapsed": false
   },
   "outputs": [
    {
     "name": "stdout",
     "output_type": "stream",
     "text": [
      "<class 'pandas.core.frame.DataFrame'>\n",
      "Int64Index: 15888 entries, 0 to 20051\n",
      "Columns: 680 entries, title to turkey\n",
      "dtypes: float64(679), object(1)\n",
      "memory usage: 82.5+ MB\n",
      "None\n"
     ]
    }
   ],
   "source": [
    "df.dropna(subset=[['calories', 'protein', 'sodium']], inplace=True)\n",
    "\n",
    "print df.info()"
   ]
  },
  {
   "cell_type": "code",
   "execution_count": 54,
   "metadata": {
    "collapsed": false
   },
   "outputs": [
    {
     "data": {
      "text/plain": [
       "(array([  1.58800000e+04,   5.00000000e+00,   0.00000000e+00,\n",
       "          0.00000000e+00,   1.00000000e+00,   0.00000000e+00,\n",
       "          0.00000000e+00,   0.00000000e+00,   0.00000000e+00,\n",
       "          2.00000000e+00]),\n",
       " array([        0. ,   3011121.8,   6022243.6,   9033365.4,  12044487.2,\n",
       "         15055609. ,  18066730.8,  21077852.6,  24088974.4,  27100096.2,\n",
       "         30111218. ]),\n",
       " <a list of 10 Patch objects>)"
      ]
     },
     "execution_count": 54,
     "metadata": {},
     "output_type": "execute_result"
    },
    {
     "data": {
      "image/png": "[encoded data removed]",
      "text/plain": [
       "<matplotlib.figure.Figure at 0xd3012f0>"
      ]
     },
     "metadata": {},
     "output_type": "display_data"
    }
   ],
   "source": [
    "a = df.calories\n",
    "b = df.protein\n",
    "\n",
    "fig = plt.figure()\n",
    "ax1 = fig.add_subplot(111)\n",
    "ax1.hist(a)"
   ]
  },
  {
   "cell_type": "code",
   "execution_count": 55,
   "metadata": {
    "collapsed": false
   },
   "outputs": [
    {
     "data": {
      "text/plain": [
       "count    1.588800e+04\n",
       "mean     6.341284e+03\n",
       "std      3.595766e+05\n",
       "min      0.000000e+00\n",
       "25%      1.990000e+02\n",
       "50%      3.320000e+02\n",
       "75%      5.870000e+02\n",
       "max      3.011122e+07\n",
       "Name: calories, dtype: float64"
      ]
     },
     "execution_count": 55,
     "metadata": {},
     "output_type": "execute_result"
    }
   ],
   "source": [
    "df.calories.describe().T\n",
    "\n",
    "# why are there some with so many calories?"
   ]
  },
  {
   "cell_type": "code",
   "execution_count": 56,
   "metadata": {
    "collapsed": false
   },
   "outputs": [
    {
     "data": {
      "image/png": "[encoded data removed]",
      "text/plain": [
       "<matplotlib.figure.Figure at 0xd311350>"
      ]
     },
     "metadata": {},
     "output_type": "display_data"
    }
   ],
   "source": [
    "x = df.rating\n",
    "y = df.calories\n",
    "colors = df.rating\n",
    "area = np.pi * (15 * df.rating)**2  # 0 to 15 point radii\n",
    "\n",
    "plt.scatter(x, y, s=area, c=colors, alpha=0.5)\n",
    "plt.show()"
   ]
  },
  {
   "cell_type": "code",
   "execution_count": 62,
   "metadata": {
    "collapsed": false
   },
   "outputs": [
    {
     "data": {
      "text/html": [
       "<div>\n",
       "<table border=\"1\" class=\"dataframe\">\n",
       "  <thead>\n",
       "    <tr style=\"text-align: right;\">\n",
       "      <th></th>\n",
       "      <th>title</th>\n",
       "      <th>rating</th>\n",
       "      <th>calories</th>\n",
       "      <th>protein</th>\n",
       "      <th>fat</th>\n",
       "      <th>...</th>\n",
       "      <th>cookbooks</th>\n",
       "      <th>leftovers</th>\n",
       "      <th>snack</th>\n",
       "      <th>snack week</th>\n",
       "      <th>turkey</th>\n",
       "    </tr>\n",
       "  </thead>\n",
       "  <tbody>\n",
       "    <tr>\n",
       "      <th>1304</th>\n",
       "      <td>Rice Pilaf with Lamb, Carrots, and Raisins</td>\n",
       "      <td>5.000</td>\n",
       "      <td>4157357.0</td>\n",
       "      <td>236489.0</td>\n",
       "      <td>221495.0</td>\n",
       "      <td>...</td>\n",
       "      <td>0.0</td>\n",
       "      <td>0.0</td>\n",
       "      <td>0.0</td>\n",
       "      <td>0.0</td>\n",
       "      <td>0.0</td>\n",
       "    </tr>\n",
       "    <tr>\n",
       "      <th>9731</th>\n",
       "      <td>Rice Pilaf with Lamb, Carrots, and Raisins</td>\n",
       "      <td>5.000</td>\n",
       "      <td>4157357.0</td>\n",
       "      <td>236489.0</td>\n",
       "      <td>221495.0</td>\n",
       "      <td>...</td>\n",
       "      <td>0.0</td>\n",
       "      <td>0.0</td>\n",
       "      <td>0.0</td>\n",
       "      <td>0.0</td>\n",
       "      <td>0.0</td>\n",
       "    </tr>\n",
       "    <tr>\n",
       "      <th>11391</th>\n",
       "      <td>Pear-Cranberry Mincemeat Lattice Pie</td>\n",
       "      <td>4.375</td>\n",
       "      <td>30111218.0</td>\n",
       "      <td>200968.0</td>\n",
       "      <td>1722763.0</td>\n",
       "      <td>...</td>\n",
       "      <td>0.0</td>\n",
       "      <td>0.0</td>\n",
       "      <td>0.0</td>\n",
       "      <td>0.0</td>\n",
       "      <td>0.0</td>\n",
       "    </tr>\n",
       "    <tr>\n",
       "      <th>6368</th>\n",
       "      <td>Deep-Dish Wild Blueberry Pie</td>\n",
       "      <td>4.375</td>\n",
       "      <td>29997918.0</td>\n",
       "      <td>200210.0</td>\n",
       "      <td>1716279.0</td>\n",
       "      <td>...</td>\n",
       "      <td>0.0</td>\n",
       "      <td>0.0</td>\n",
       "      <td>0.0</td>\n",
       "      <td>0.0</td>\n",
       "      <td>0.0</td>\n",
       "    </tr>\n",
       "    <tr>\n",
       "      <th>2976</th>\n",
       "      <td>Lamb Köfte with Tarator Sauce</td>\n",
       "      <td>5.000</td>\n",
       "      <td>4518216.0</td>\n",
       "      <td>166471.0</td>\n",
       "      <td>44198.0</td>\n",
       "      <td>...</td>\n",
       "      <td>0.0</td>\n",
       "      <td>0.0</td>\n",
       "      <td>0.0</td>\n",
       "      <td>0.0</td>\n",
       "      <td>0.0</td>\n",
       "    </tr>\n",
       "    <tr>\n",
       "      <th>19672</th>\n",
       "      <td>Apricot, Cranberry and Walnut Pie</td>\n",
       "      <td>4.375</td>\n",
       "      <td>13062948.0</td>\n",
       "      <td>87188.0</td>\n",
       "      <td>747374.0</td>\n",
       "      <td>...</td>\n",
       "      <td>0.0</td>\n",
       "      <td>0.0</td>\n",
       "      <td>0.0</td>\n",
       "      <td>0.0</td>\n",
       "      <td>0.0</td>\n",
       "    </tr>\n",
       "    <tr>\n",
       "      <th>6912</th>\n",
       "      <td>Chocolate-Almond Pie</td>\n",
       "      <td>3.125</td>\n",
       "      <td>3358273.0</td>\n",
       "      <td>58334.0</td>\n",
       "      <td>186660.0</td>\n",
       "      <td>...</td>\n",
       "      <td>0.0</td>\n",
       "      <td>0.0</td>\n",
       "      <td>0.0</td>\n",
       "      <td>0.0</td>\n",
       "      <td>0.0</td>\n",
       "    </tr>\n",
       "    <tr>\n",
       "      <th>5138</th>\n",
       "      <td>Caramelized Apple and Pear Pie</td>\n",
       "      <td>3.125</td>\n",
       "      <td>3358029.0</td>\n",
       "      <td>58324.0</td>\n",
       "      <td>186642.0</td>\n",
       "      <td>...</td>\n",
       "      <td>0.0</td>\n",
       "      <td>0.0</td>\n",
       "      <td>0.0</td>\n",
       "      <td>0.0</td>\n",
       "      <td>0.0</td>\n",
       "    </tr>\n",
       "    <tr>\n",
       "      <th>16208</th>\n",
       "      <td>Merguez Lamb Patties with Golden Raisin Couscous</td>\n",
       "      <td>4.375</td>\n",
       "      <td>54512.0</td>\n",
       "      <td>2074.0</td>\n",
       "      <td>595.0</td>\n",
       "      <td>...</td>\n",
       "      <td>0.0</td>\n",
       "      <td>0.0</td>\n",
       "      <td>0.0</td>\n",
       "      <td>0.0</td>\n",
       "      <td>0.0</td>\n",
       "    </tr>\n",
       "    <tr>\n",
       "      <th>1465</th>\n",
       "      <td>Manhattan Clam Chowder</td>\n",
       "      <td>4.375</td>\n",
       "      <td>9811.0</td>\n",
       "      <td>1625.0</td>\n",
       "      <td>128.0</td>\n",
       "      <td>...</td>\n",
       "      <td>0.0</td>\n",
       "      <td>0.0</td>\n",
       "      <td>0.0</td>\n",
       "      <td>0.0</td>\n",
       "      <td>0.0</td>\n",
       "    </tr>\n",
       "  </tbody>\n",
       "</table>\n",
       "<p>10 rows × 680 columns</p>\n",
       "</div>"
      ],
      "text/plain": [
       "                                                   title  rating    calories  \\\n",
       "1304         Rice Pilaf with Lamb, Carrots, and Raisins    5.000   4157357.0   \n",
       "9731         Rice Pilaf with Lamb, Carrots, and Raisins    5.000   4157357.0   \n",
       "11391              Pear-Cranberry Mincemeat Lattice Pie    4.375  30111218.0   \n",
       "6368                       Deep-Dish Wild Blueberry Pie    4.375  29997918.0   \n",
       "2976                      Lamb Köfte with Tarator Sauce    5.000   4518216.0   \n",
       "19672                 Apricot, Cranberry and Walnut Pie    4.375  13062948.0   \n",
       "6912                               Chocolate-Almond Pie    3.125   3358273.0   \n",
       "5138                     Caramelized Apple and Pear Pie    3.125   3358029.0   \n",
       "16208  Merguez Lamb Patties with Golden Raisin Couscous    4.375     54512.0   \n",
       "1465                             Manhattan Clam Chowder    4.375      9811.0   \n",
       "\n",
       "        protein        fat   ...    cookbooks  leftovers  snack  snack week  \\\n",
       "1304   236489.0   221495.0   ...          0.0        0.0    0.0         0.0   \n",
       "9731   236489.0   221495.0   ...          0.0        0.0    0.0         0.0   \n",
       "11391  200968.0  1722763.0   ...          0.0        0.0    0.0         0.0   \n",
       "6368   200210.0  1716279.0   ...          0.0        0.0    0.0         0.0   \n",
       "2976   166471.0    44198.0   ...          0.0        0.0    0.0         0.0   \n",
       "19672   87188.0   747374.0   ...          0.0        0.0    0.0         0.0   \n",
       "6912    58334.0   186660.0   ...          0.0        0.0    0.0         0.0   \n",
       "5138    58324.0   186642.0   ...          0.0        0.0    0.0         0.0   \n",
       "16208    2074.0      595.0   ...          0.0        0.0    0.0         0.0   \n",
       "1465     1625.0      128.0   ...          0.0        0.0    0.0         0.0   \n",
       "\n",
       "       turkey  \n",
       "1304      0.0  \n",
       "9731      0.0  \n",
       "11391     0.0  \n",
       "6368      0.0  \n",
       "2976      0.0  \n",
       "19672     0.0  \n",
       "6912      0.0  \n",
       "5138      0.0  \n",
       "16208     0.0  \n",
       "1465      0.0  \n",
       "\n",
       "[10 rows x 680 columns]"
      ]
     },
     "execution_count": 62,
     "metadata": {},
     "output_type": "execute_result"
    }
   ],
   "source": [
    "df2 = df.sort_values('protein', ascending=False)\n",
    "df2.head(10)"
   ]
  },
  {
   "cell_type": "markdown",
   "metadata": {
    "collapsed": false
   },
   "source": [
    "### Lunar New Year recipes (Detour)"
   ]
  },
  {
   "cell_type": "code",
   "execution_count": 20,
   "metadata": {
    "collapsed": false
   },
   "outputs": [
    {
     "data": {
      "text/plain": [
       "46.0"
      ]
     },
     "execution_count": 20,
     "metadata": {},
     "output_type": "execute_result"
    }
   ],
   "source": [
    "df [\"lunar new year\"].sum()"
   ]
  },
  {
   "cell_type": "code",
   "execution_count": 21,
   "metadata": {
    "collapsed": false
   },
   "outputs": [
    {
     "data": {
      "text/plain": [
       "11458    1.0\n",
       "15961    1.0\n",
       "7310     1.0\n",
       "10334    1.0\n",
       "19875    1.0\n",
       "6669     0.0\n",
       "Name: lunar new year, dtype: float64"
      ]
     },
     "execution_count": 21,
     "metadata": {},
     "output_type": "execute_result"
    }
   ],
   "source": [
    "df['lunar new year'].sort_values(ascending=False)[41:47]"
   ]
  },
  {
   "cell_type": "code",
   "execution_count": 22,
   "metadata": {
    "collapsed": false,
    "scrolled": true
   },
   "outputs": [],
   "source": [
    "chine = df.iloc[[12840,6548, 16213, 8683, 4172, 13099, 1004, 15080, 1003, 16778, 16224, 4588, \n",
    "                 2238, 14258, 1317, 10302, 17380, 8024, 13546, 4314, 13375, 1799, 107, 16809, \n",
    "                 18373, 9134, 259, 16350, 2439, 15759, 8240, 1047, 10723, 19929, 14874, 10559, \n",
    "                 18332, 10622, 19699, 11458, 15961, 7310, 10334, 19875]]"
   ]
  },
  {
   "cell_type": "code",
   "execution_count": 24,
   "metadata": {
    "collapsed": false
   },
   "outputs": [
    {
     "data": {
      "text/html": [
       "<div>\n",
       "<table border=\"1\" class=\"dataframe\">\n",
       "  <thead>\n",
       "    <tr style=\"text-align: right;\">\n",
       "      <th></th>\n",
       "      <th>title</th>\n",
       "      <th>rating</th>\n",
       "      <th>calories</th>\n",
       "      <th>protein</th>\n",
       "      <th>fat</th>\n",
       "      <th>...</th>\n",
       "      <th>cookbooks</th>\n",
       "      <th>leftovers</th>\n",
       "      <th>snack</th>\n",
       "      <th>snack week</th>\n",
       "      <th>turkey</th>\n",
       "    </tr>\n",
       "  </thead>\n",
       "  <tbody>\n",
       "    <tr>\n",
       "      <th>12840</th>\n",
       "      <td>Golden Crisp Daikon Cake with Spicy Herb Soy S...</td>\n",
       "      <td>5.000</td>\n",
       "      <td>285.0</td>\n",
       "      <td>9.0</td>\n",
       "      <td>15.0</td>\n",
       "      <td>...</td>\n",
       "      <td>0.0</td>\n",
       "      <td>0.0</td>\n",
       "      <td>0.0</td>\n",
       "      <td>0.0</td>\n",
       "      <td>0.0</td>\n",
       "    </tr>\n",
       "    <tr>\n",
       "      <th>1003</th>\n",
       "      <td>Chicken Curry with Sweet Potatoes</td>\n",
       "      <td>5.000</td>\n",
       "      <td>591.0</td>\n",
       "      <td>54.0</td>\n",
       "      <td>21.0</td>\n",
       "      <td>...</td>\n",
       "      <td>0.0</td>\n",
       "      <td>0.0</td>\n",
       "      <td>0.0</td>\n",
       "      <td>0.0</td>\n",
       "      <td>0.0</td>\n",
       "    </tr>\n",
       "    <tr>\n",
       "      <th>16809</th>\n",
       "      <td>Steamed Fish with Lime and Chile</td>\n",
       "      <td>5.000</td>\n",
       "      <td>461.0</td>\n",
       "      <td>74.0</td>\n",
       "      <td>10.0</td>\n",
       "      <td>...</td>\n",
       "      <td>0.0</td>\n",
       "      <td>0.0</td>\n",
       "      <td>0.0</td>\n",
       "      <td>0.0</td>\n",
       "      <td>0.0</td>\n",
       "    </tr>\n",
       "    <tr>\n",
       "      <th>13546</th>\n",
       "      <td>Pot Stickers</td>\n",
       "      <td>5.000</td>\n",
       "      <td>371.0</td>\n",
       "      <td>13.0</td>\n",
       "      <td>23.0</td>\n",
       "      <td>...</td>\n",
       "      <td>0.0</td>\n",
       "      <td>0.0</td>\n",
       "      <td>0.0</td>\n",
       "      <td>0.0</td>\n",
       "      <td>0.0</td>\n",
       "    </tr>\n",
       "    <tr>\n",
       "      <th>1317</th>\n",
       "      <td>Pork and Chive Dumplings with Dried Shrimp</td>\n",
       "      <td>5.000</td>\n",
       "      <td>75.0</td>\n",
       "      <td>3.0</td>\n",
       "      <td>4.0</td>\n",
       "      <td>...</td>\n",
       "      <td>0.0</td>\n",
       "      <td>0.0</td>\n",
       "      <td>0.0</td>\n",
       "      <td>0.0</td>\n",
       "      <td>0.0</td>\n",
       "    </tr>\n",
       "    <tr>\n",
       "      <th>2238</th>\n",
       "      <td>Shrimp and Pork Pot Stickers</td>\n",
       "      <td>5.000</td>\n",
       "      <td>93.0</td>\n",
       "      <td>4.0</td>\n",
       "      <td>2.0</td>\n",
       "      <td>...</td>\n",
       "      <td>0.0</td>\n",
       "      <td>0.0</td>\n",
       "      <td>0.0</td>\n",
       "      <td>0.0</td>\n",
       "      <td>0.0</td>\n",
       "    </tr>\n",
       "    <tr>\n",
       "      <th>107</th>\n",
       "      <td>Asian Noodles with Barbecued Duck Confit</td>\n",
       "      <td>5.000</td>\n",
       "      <td>519.0</td>\n",
       "      <td>14.0</td>\n",
       "      <td>25.0</td>\n",
       "      <td>...</td>\n",
       "      <td>0.0</td>\n",
       "      <td>0.0</td>\n",
       "      <td>0.0</td>\n",
       "      <td>0.0</td>\n",
       "      <td>0.0</td>\n",
       "    </tr>\n",
       "    <tr>\n",
       "      <th>15080</th>\n",
       "      <td>Jasmine Rice with Garlic, Ginger, and Cilantro</td>\n",
       "      <td>4.375</td>\n",
       "      <td>328.0</td>\n",
       "      <td>8.0</td>\n",
       "      <td>7.0</td>\n",
       "      <td>...</td>\n",
       "      <td>0.0</td>\n",
       "      <td>0.0</td>\n",
       "      <td>0.0</td>\n",
       "      <td>0.0</td>\n",
       "      <td>0.0</td>\n",
       "    </tr>\n",
       "    <tr>\n",
       "      <th>6548</th>\n",
       "      <td>Spicy Lemongrass Tofu</td>\n",
       "      <td>4.375</td>\n",
       "      <td>285.0</td>\n",
       "      <td>11.0</td>\n",
       "      <td>22.0</td>\n",
       "      <td>...</td>\n",
       "      <td>0.0</td>\n",
       "      <td>0.0</td>\n",
       "      <td>0.0</td>\n",
       "      <td>0.0</td>\n",
       "      <td>0.0</td>\n",
       "    </tr>\n",
       "    <tr>\n",
       "      <th>15961</th>\n",
       "      <td>White-Cut Chicken</td>\n",
       "      <td>4.375</td>\n",
       "      <td>269.0</td>\n",
       "      <td>20.0</td>\n",
       "      <td>19.0</td>\n",
       "      <td>...</td>\n",
       "      <td>0.0</td>\n",
       "      <td>0.0</td>\n",
       "      <td>0.0</td>\n",
       "      <td>0.0</td>\n",
       "      <td>0.0</td>\n",
       "    </tr>\n",
       "    <tr>\n",
       "      <th>...</th>\n",
       "      <td>...</td>\n",
       "      <td>...</td>\n",
       "      <td>...</td>\n",
       "      <td>...</td>\n",
       "      <td>...</td>\n",
       "      <td>...</td>\n",
       "      <td>...</td>\n",
       "      <td>...</td>\n",
       "      <td>...</td>\n",
       "      <td>...</td>\n",
       "      <td>...</td>\n",
       "    </tr>\n",
       "    <tr>\n",
       "      <th>4588</th>\n",
       "      <td>Gingered Vegetable Stir-Fry</td>\n",
       "      <td>3.750</td>\n",
       "      <td>91.0</td>\n",
       "      <td>2.0</td>\n",
       "      <td>5.0</td>\n",
       "      <td>...</td>\n",
       "      <td>0.0</td>\n",
       "      <td>0.0</td>\n",
       "      <td>0.0</td>\n",
       "      <td>0.0</td>\n",
       "      <td>0.0</td>\n",
       "    </tr>\n",
       "    <tr>\n",
       "      <th>16213</th>\n",
       "      <td>Banana and Mango Spring Rolls with Coconut-Cho...</td>\n",
       "      <td>3.750</td>\n",
       "      <td>932.0</td>\n",
       "      <td>7.0</td>\n",
       "      <td>75.0</td>\n",
       "      <td>...</td>\n",
       "      <td>0.0</td>\n",
       "      <td>0.0</td>\n",
       "      <td>0.0</td>\n",
       "      <td>0.0</td>\n",
       "      <td>0.0</td>\n",
       "    </tr>\n",
       "    <tr>\n",
       "      <th>14874</th>\n",
       "      <td>Chinese Trinidadian Stir-Fried Shrimp with Rum</td>\n",
       "      <td>3.750</td>\n",
       "      <td>344.0</td>\n",
       "      <td>36.0</td>\n",
       "      <td>7.0</td>\n",
       "      <td>...</td>\n",
       "      <td>0.0</td>\n",
       "      <td>0.0</td>\n",
       "      <td>0.0</td>\n",
       "      <td>0.0</td>\n",
       "      <td>0.0</td>\n",
       "    </tr>\n",
       "    <tr>\n",
       "      <th>18373</th>\n",
       "      <td>Litchi Five-Spice Ice Cream</td>\n",
       "      <td>3.750</td>\n",
       "      <td>229.0</td>\n",
       "      <td>5.0</td>\n",
       "      <td>10.0</td>\n",
       "      <td>...</td>\n",
       "      <td>0.0</td>\n",
       "      <td>0.0</td>\n",
       "      <td>0.0</td>\n",
       "      <td>0.0</td>\n",
       "      <td>0.0</td>\n",
       "    </tr>\n",
       "    <tr>\n",
       "      <th>1047</th>\n",
       "      <td>Chinese Chicken Noodle Soup with Spinach and G...</td>\n",
       "      <td>3.750</td>\n",
       "      <td>301.0</td>\n",
       "      <td>24.0</td>\n",
       "      <td>18.0</td>\n",
       "      <td>...</td>\n",
       "      <td>0.0</td>\n",
       "      <td>0.0</td>\n",
       "      <td>0.0</td>\n",
       "      <td>0.0</td>\n",
       "      <td>0.0</td>\n",
       "    </tr>\n",
       "    <tr>\n",
       "      <th>2439</th>\n",
       "      <td>Chocolate Kumquat Spring Rolls</td>\n",
       "      <td>3.750</td>\n",
       "      <td>243.0</td>\n",
       "      <td>3.0</td>\n",
       "      <td>21.0</td>\n",
       "      <td>...</td>\n",
       "      <td>0.0</td>\n",
       "      <td>0.0</td>\n",
       "      <td>0.0</td>\n",
       "      <td>0.0</td>\n",
       "      <td>0.0</td>\n",
       "    </tr>\n",
       "    <tr>\n",
       "      <th>4314</th>\n",
       "      <td>Red-Braised Pork (Hong Shao Rou)</td>\n",
       "      <td>3.750</td>\n",
       "      <td>283.0</td>\n",
       "      <td>6.0</td>\n",
       "      <td>26.0</td>\n",
       "      <td>...</td>\n",
       "      <td>0.0</td>\n",
       "      <td>0.0</td>\n",
       "      <td>0.0</td>\n",
       "      <td>0.0</td>\n",
       "      <td>0.0</td>\n",
       "    </tr>\n",
       "    <tr>\n",
       "      <th>1799</th>\n",
       "      <td>Chicken Lo Mein with Ginger Mushrooms</td>\n",
       "      <td>3.750</td>\n",
       "      <td>833.0</td>\n",
       "      <td>38.0</td>\n",
       "      <td>37.0</td>\n",
       "      <td>...</td>\n",
       "      <td>0.0</td>\n",
       "      <td>0.0</td>\n",
       "      <td>0.0</td>\n",
       "      <td>0.0</td>\n",
       "      <td>0.0</td>\n",
       "    </tr>\n",
       "    <tr>\n",
       "      <th>10302</th>\n",
       "      <td>Stir-Fried Bok Choy</td>\n",
       "      <td>3.750</td>\n",
       "      <td>61.0</td>\n",
       "      <td>2.0</td>\n",
       "      <td>4.0</td>\n",
       "      <td>...</td>\n",
       "      <td>0.0</td>\n",
       "      <td>0.0</td>\n",
       "      <td>0.0</td>\n",
       "      <td>0.0</td>\n",
       "      <td>0.0</td>\n",
       "    </tr>\n",
       "    <tr>\n",
       "      <th>10334</th>\n",
       "      <td>Lime-Soy-Ginger Sauce</td>\n",
       "      <td>0.000</td>\n",
       "      <td>150.0</td>\n",
       "      <td>7.0</td>\n",
       "      <td>10.0</td>\n",
       "      <td>...</td>\n",
       "      <td>0.0</td>\n",
       "      <td>0.0</td>\n",
       "      <td>0.0</td>\n",
       "      <td>0.0</td>\n",
       "      <td>0.0</td>\n",
       "    </tr>\n",
       "  </tbody>\n",
       "</table>\n",
       "<p>44 rows × 680 columns</p>\n",
       "</div>"
      ],
      "text/plain": [
       "                                                   title  rating  calories  \\\n",
       "12840  Golden Crisp Daikon Cake with Spicy Herb Soy S...   5.000     285.0   \n",
       "1003                  Chicken Curry with Sweet Potatoes    5.000     591.0   \n",
       "16809                  Steamed Fish with Lime and Chile    5.000     461.0   \n",
       "13546                                      Pot Stickers    5.000     371.0   \n",
       "1317         Pork and Chive Dumplings with Dried Shrimp    5.000      75.0   \n",
       "2238                       Shrimp and Pork Pot Stickers    5.000      93.0   \n",
       "107            Asian Noodles with Barbecued Duck Confit    5.000     519.0   \n",
       "15080    Jasmine Rice with Garlic, Ginger, and Cilantro    4.375     328.0   \n",
       "6548                              Spicy Lemongrass Tofu    4.375     285.0   \n",
       "15961                                 White-Cut Chicken    4.375     269.0   \n",
       "...                                                  ...     ...       ...   \n",
       "4588                        Gingered Vegetable Stir-Fry    3.750      91.0   \n",
       "16213  Banana and Mango Spring Rolls with Coconut-Cho...   3.750     932.0   \n",
       "14874    Chinese Trinidadian Stir-Fried Shrimp with Rum    3.750     344.0   \n",
       "18373                       Litchi Five-Spice Ice Cream    3.750     229.0   \n",
       "1047   Chinese Chicken Noodle Soup with Spinach and G...   3.750     301.0   \n",
       "2439                     Chocolate Kumquat Spring Rolls    3.750     243.0   \n",
       "4314                   Red-Braised Pork (Hong Shao Rou)    3.750     283.0   \n",
       "1799              Chicken Lo Mein with Ginger Mushrooms    3.750     833.0   \n",
       "10302                               Stir-Fried Bok Choy    3.750      61.0   \n",
       "10334                             Lime-Soy-Ginger Sauce    0.000     150.0   \n",
       "\n",
       "       protein   fat   ...    cookbooks  leftovers  snack  snack week  turkey  \n",
       "12840      9.0  15.0   ...          0.0        0.0    0.0         0.0     0.0  \n",
       "1003      54.0  21.0   ...          0.0        0.0    0.0         0.0     0.0  \n",
       "16809     74.0  10.0   ...          0.0        0.0    0.0         0.0     0.0  \n",
       "13546     13.0  23.0   ...          0.0        0.0    0.0         0.0     0.0  \n",
       "1317       3.0   4.0   ...          0.0        0.0    0.0         0.0     0.0  \n",
       "2238       4.0   2.0   ...          0.0        0.0    0.0         0.0     0.0  \n",
       "107       14.0  25.0   ...          0.0        0.0    0.0         0.0     0.0  \n",
       "15080      8.0   7.0   ...          0.0        0.0    0.0         0.0     0.0  \n",
       "6548      11.0  22.0   ...          0.0        0.0    0.0         0.0     0.0  \n",
       "15961     20.0  19.0   ...          0.0        0.0    0.0         0.0     0.0  \n",
       "...        ...   ...   ...          ...        ...    ...         ...     ...  \n",
       "4588       2.0   5.0   ...          0.0        0.0    0.0         0.0     0.0  \n",
       "16213      7.0  75.0   ...          0.0        0.0    0.0         0.0     0.0  \n",
       "14874     36.0   7.0   ...          0.0        0.0    0.0         0.0     0.0  \n",
       "18373      5.0  10.0   ...          0.0        0.0    0.0         0.0     0.0  \n",
       "1047      24.0  18.0   ...          0.0        0.0    0.0         0.0     0.0  \n",
       "2439       3.0  21.0   ...          0.0        0.0    0.0         0.0     0.0  \n",
       "4314       6.0  26.0   ...          0.0        0.0    0.0         0.0     0.0  \n",
       "1799      38.0  37.0   ...          0.0        0.0    0.0         0.0     0.0  \n",
       "10302      2.0   4.0   ...          0.0        0.0    0.0         0.0     0.0  \n",
       "10334      7.0  10.0   ...          0.0        0.0    0.0         0.0     0.0  \n",
       "\n",
       "[44 rows x 680 columns]"
      ]
     },
     "execution_count": 24,
     "metadata": {},
     "output_type": "execute_result"
    }
   ],
   "source": [
    "chine.sort_values ('rating', ascending=False)"
   ]
  },
  {
   "cell_type": "code",
   "execution_count": 25,
   "metadata": {
    "collapsed": false
   },
   "outputs": [
    {
     "data": {
      "text/plain": [
       "(array([  1.,   0.,   0.,   0.,   0.,   0.,   0.,  12.,  24.,   7.]),\n",
       " array([ 0. ,  0.5,  1. ,  1.5,  2. ,  2.5,  3. ,  3.5,  4. ,  4.5,  5. ]),\n",
       " <a list of 10 Patch objects>)"
      ]
     },
     "execution_count": 25,
     "metadata": {},
     "output_type": "execute_result"
    },
    {
     "data": {
      "image/png": "[encoded data removed]",
      "text/plain": [
       "<matplotlib.figure.Figure at 0x13c53a50>"
      ]
     },
     "metadata": {},
     "output_type": "display_data"
    }
   ],
   "source": [
    "a = chine.rating\n",
    "\n",
    "fig = plt.figure()\n",
    "ax1 = fig.add_subplot(111)\n",
    "ax1.hist(a)"
   ]
  },
  {
   "cell_type": "code",
   "execution_count": 26,
   "metadata": {
    "collapsed": false
   },
   "outputs": [
    {
     "data": {
      "text/plain": [
       "title                   0\n",
       "rating                  0\n",
       "calories                2\n",
       "protein                 2\n",
       "fat                     2\n",
       "sodium                  2\n",
       "#cakeweek               0\n",
       "#wasteless              0\n",
       "22-minute meals         0\n",
       "3-ingredient recipes    0\n",
       "                       ..\n",
       "yellow squash           0\n",
       "yogurt                  0\n",
       "yonkers                 0\n",
       "yuca                    0\n",
       "zucchini                0\n",
       "cookbooks               0\n",
       "leftovers               0\n",
       "snack                   0\n",
       "snack week              0\n",
       "turkey                  0\n",
       "dtype: int64"
      ]
     },
     "execution_count": 26,
     "metadata": {},
     "output_type": "execute_result"
    }
   ],
   "source": [
    "chine.isnull().sum()"
   ]
  },
  {
   "cell_type": "code",
   "execution_count": 27,
   "metadata": {
    "collapsed": false
   },
   "outputs": [
    {
     "data": {
      "text/plain": [
       "12840     285.0\n",
       "6548      285.0\n",
       "16213     932.0\n",
       "8683      984.0\n",
       "4172      352.0\n",
       "13099     451.0\n",
       "1004      126.0\n",
       "15080     328.0\n",
       "1003      591.0\n",
       "16778     726.0\n",
       "          ...  \n",
       "19929     936.0\n",
       "14874     344.0\n",
       "10559     687.0\n",
       "10622     578.0\n",
       "19699     451.0\n",
       "11458      75.0\n",
       "15961     269.0\n",
       "7310       11.0\n",
       "10334     150.0\n",
       "19875    2588.0\n",
       "Name: calories, dtype: float64"
      ]
     },
     "execution_count": 27,
     "metadata": {},
     "output_type": "execute_result"
    }
   ],
   "source": [
    "chine.calories.dropna()"
   ]
  },
  {
   "cell_type": "code",
   "execution_count": 28,
   "metadata": {
    "collapsed": false
   },
   "outputs": [
    {
     "data": {
      "text/plain": [
       "42"
      ]
     },
     "execution_count": 28,
     "metadata": {},
     "output_type": "execute_result"
    }
   ],
   "source": [
    "chine.calories.count()"
   ]
  },
  {
   "cell_type": "code",
   "execution_count": 29,
   "metadata": {
    "collapsed": false
   },
   "outputs": [
    {
     "data": {
      "text/plain": [
       "pandas.core.series.Series"
      ]
     },
     "execution_count": 29,
     "metadata": {},
     "output_type": "execute_result"
    }
   ],
   "source": [
    "type(chine.calories)"
   ]
  },
  {
   "cell_type": "code",
   "execution_count": 30,
   "metadata": {
    "collapsed": false
   },
   "outputs": [
    {
     "data": {
      "text/plain": [
       "2"
      ]
     },
     "execution_count": 30,
     "metadata": {},
     "output_type": "execute_result"
    }
   ],
   "source": [
    "chine.calories.isnull().sum()"
   ]
  },
  {
   "cell_type": "code",
   "execution_count": 31,
   "metadata": {
    "collapsed": false
   },
   "outputs": [],
   "source": [
    "chine2 = chine.dropna()"
   ]
  },
  {
   "cell_type": "code",
   "execution_count": 32,
   "metadata": {
    "collapsed": false
   },
   "outputs": [
    {
     "data": {
      "text/plain": [
       "title                   42\n",
       "rating                  42\n",
       "calories                42\n",
       "protein                 42\n",
       "fat                     42\n",
       "sodium                  42\n",
       "#cakeweek               42\n",
       "#wasteless              42\n",
       "22-minute meals         42\n",
       "3-ingredient recipes    42\n",
       "                        ..\n",
       "yellow squash           42\n",
       "yogurt                  42\n",
       "yonkers                 42\n",
       "yuca                    42\n",
       "zucchini                42\n",
       "cookbooks               42\n",
       "leftovers               42\n",
       "snack                   42\n",
       "snack week              42\n",
       "turkey                  42\n",
       "dtype: int64"
      ]
     },
     "execution_count": 32,
     "metadata": {},
     "output_type": "execute_result"
    }
   ],
   "source": [
    "chine2.count()"
   ]
  },
  {
   "cell_type": "code",
   "execution_count": 33,
   "metadata": {
    "collapsed": false
   },
   "outputs": [
    {
     "data": {
      "text/html": [
       "<div>\n",
       "<table border=\"1\" class=\"dataframe\">\n",
       "  <thead>\n",
       "    <tr style=\"text-align: right;\">\n",
       "      <th></th>\n",
       "      <th>title</th>\n",
       "      <th>rating</th>\n",
       "      <th>calories</th>\n",
       "      <th>protein</th>\n",
       "      <th>fat</th>\n",
       "      <th>...</th>\n",
       "      <th>cookbooks</th>\n",
       "      <th>leftovers</th>\n",
       "      <th>snack</th>\n",
       "      <th>snack week</th>\n",
       "      <th>turkey</th>\n",
       "    </tr>\n",
       "  </thead>\n",
       "  <tbody>\n",
       "    <tr>\n",
       "      <th>9134</th>\n",
       "      <td>Twice-Cooked Five-Spice Lamb with Red Chiles</td>\n",
       "      <td>4.375</td>\n",
       "      <td>959.0</td>\n",
       "      <td>82.0</td>\n",
       "      <td>58.0</td>\n",
       "      <td>...</td>\n",
       "      <td>0.0</td>\n",
       "      <td>0.0</td>\n",
       "      <td>0.0</td>\n",
       "      <td>0.0</td>\n",
       "      <td>0.0</td>\n",
       "    </tr>\n",
       "    <tr>\n",
       "      <th>19875</th>\n",
       "      <td>Peanut-Crusted Lamb with Hunan Sauce</td>\n",
       "      <td>4.375</td>\n",
       "      <td>2588.0</td>\n",
       "      <td>81.0</td>\n",
       "      <td>234.0</td>\n",
       "      <td>...</td>\n",
       "      <td>0.0</td>\n",
       "      <td>0.0</td>\n",
       "      <td>0.0</td>\n",
       "      <td>0.0</td>\n",
       "      <td>0.0</td>\n",
       "    </tr>\n",
       "    <tr>\n",
       "      <th>16350</th>\n",
       "      <td>Poached Chicken with Ginger and Scallion Sauce</td>\n",
       "      <td>4.375</td>\n",
       "      <td>1124.0</td>\n",
       "      <td>75.0</td>\n",
       "      <td>87.0</td>\n",
       "      <td>...</td>\n",
       "      <td>0.0</td>\n",
       "      <td>0.0</td>\n",
       "      <td>0.0</td>\n",
       "      <td>0.0</td>\n",
       "      <td>0.0</td>\n",
       "    </tr>\n",
       "    <tr>\n",
       "      <th>16809</th>\n",
       "      <td>Steamed Fish with Lime and Chile</td>\n",
       "      <td>5.000</td>\n",
       "      <td>461.0</td>\n",
       "      <td>74.0</td>\n",
       "      <td>10.0</td>\n",
       "      <td>...</td>\n",
       "      <td>0.0</td>\n",
       "      <td>0.0</td>\n",
       "      <td>0.0</td>\n",
       "      <td>0.0</td>\n",
       "      <td>0.0</td>\n",
       "    </tr>\n",
       "    <tr>\n",
       "      <th>19929</th>\n",
       "      <td>Braised Chicken with Smoked Ham, Chestnuts, an...</td>\n",
       "      <td>4.375</td>\n",
       "      <td>936.0</td>\n",
       "      <td>70.0</td>\n",
       "      <td>55.0</td>\n",
       "      <td>...</td>\n",
       "      <td>0.0</td>\n",
       "      <td>0.0</td>\n",
       "      <td>0.0</td>\n",
       "      <td>0.0</td>\n",
       "      <td>0.0</td>\n",
       "    </tr>\n",
       "    <tr>\n",
       "      <th>10622</th>\n",
       "      <td>Spicy Braised Chicken with Mushrooms and Star ...</td>\n",
       "      <td>4.375</td>\n",
       "      <td>578.0</td>\n",
       "      <td>55.0</td>\n",
       "      <td>27.0</td>\n",
       "      <td>...</td>\n",
       "      <td>0.0</td>\n",
       "      <td>0.0</td>\n",
       "      <td>0.0</td>\n",
       "      <td>0.0</td>\n",
       "      <td>0.0</td>\n",
       "    </tr>\n",
       "    <tr>\n",
       "      <th>1003</th>\n",
       "      <td>Chicken Curry with Sweet Potatoes</td>\n",
       "      <td>5.000</td>\n",
       "      <td>591.0</td>\n",
       "      <td>54.0</td>\n",
       "      <td>21.0</td>\n",
       "      <td>...</td>\n",
       "      <td>0.0</td>\n",
       "      <td>0.0</td>\n",
       "      <td>0.0</td>\n",
       "      <td>0.0</td>\n",
       "      <td>0.0</td>\n",
       "    </tr>\n",
       "    <tr>\n",
       "      <th>10559</th>\n",
       "      <td>Easy Beef Lo Mein</td>\n",
       "      <td>4.375</td>\n",
       "      <td>687.0</td>\n",
       "      <td>48.0</td>\n",
       "      <td>25.0</td>\n",
       "      <td>...</td>\n",
       "      <td>0.0</td>\n",
       "      <td>0.0</td>\n",
       "      <td>0.0</td>\n",
       "      <td>0.0</td>\n",
       "      <td>0.0</td>\n",
       "    </tr>\n",
       "    <tr>\n",
       "      <th>16778</th>\n",
       "      <td>Chicken with Chestnuts</td>\n",
       "      <td>3.750</td>\n",
       "      <td>726.0</td>\n",
       "      <td>43.0</td>\n",
       "      <td>49.0</td>\n",
       "      <td>...</td>\n",
       "      <td>0.0</td>\n",
       "      <td>0.0</td>\n",
       "      <td>0.0</td>\n",
       "      <td>0.0</td>\n",
       "      <td>0.0</td>\n",
       "    </tr>\n",
       "    <tr>\n",
       "      <th>1799</th>\n",
       "      <td>Chicken Lo Mein with Ginger Mushrooms</td>\n",
       "      <td>3.750</td>\n",
       "      <td>833.0</td>\n",
       "      <td>38.0</td>\n",
       "      <td>37.0</td>\n",
       "      <td>...</td>\n",
       "      <td>0.0</td>\n",
       "      <td>0.0</td>\n",
       "      <td>0.0</td>\n",
       "      <td>0.0</td>\n",
       "      <td>0.0</td>\n",
       "    </tr>\n",
       "    <tr>\n",
       "      <th>...</th>\n",
       "      <td>...</td>\n",
       "      <td>...</td>\n",
       "      <td>...</td>\n",
       "      <td>...</td>\n",
       "      <td>...</td>\n",
       "      <td>...</td>\n",
       "      <td>...</td>\n",
       "      <td>...</td>\n",
       "      <td>...</td>\n",
       "      <td>...</td>\n",
       "      <td>...</td>\n",
       "    </tr>\n",
       "    <tr>\n",
       "      <th>11458</th>\n",
       "      <td>Pork Dumplings</td>\n",
       "      <td>4.375</td>\n",
       "      <td>75.0</td>\n",
       "      <td>4.0</td>\n",
       "      <td>2.0</td>\n",
       "      <td>...</td>\n",
       "      <td>0.0</td>\n",
       "      <td>0.0</td>\n",
       "      <td>0.0</td>\n",
       "      <td>0.0</td>\n",
       "      <td>0.0</td>\n",
       "    </tr>\n",
       "    <tr>\n",
       "      <th>2238</th>\n",
       "      <td>Shrimp and Pork Pot Stickers</td>\n",
       "      <td>5.000</td>\n",
       "      <td>93.0</td>\n",
       "      <td>4.0</td>\n",
       "      <td>2.0</td>\n",
       "      <td>...</td>\n",
       "      <td>0.0</td>\n",
       "      <td>0.0</td>\n",
       "      <td>0.0</td>\n",
       "      <td>0.0</td>\n",
       "      <td>0.0</td>\n",
       "    </tr>\n",
       "    <tr>\n",
       "      <th>2439</th>\n",
       "      <td>Chocolate Kumquat Spring Rolls</td>\n",
       "      <td>3.750</td>\n",
       "      <td>243.0</td>\n",
       "      <td>3.0</td>\n",
       "      <td>21.0</td>\n",
       "      <td>...</td>\n",
       "      <td>0.0</td>\n",
       "      <td>0.0</td>\n",
       "      <td>0.0</td>\n",
       "      <td>0.0</td>\n",
       "      <td>0.0</td>\n",
       "    </tr>\n",
       "    <tr>\n",
       "      <th>17380</th>\n",
       "      <td>Crispy Spring Rolls with Spicy Tofu, Vegetable...</td>\n",
       "      <td>4.375</td>\n",
       "      <td>74.0</td>\n",
       "      <td>3.0</td>\n",
       "      <td>4.0</td>\n",
       "      <td>...</td>\n",
       "      <td>0.0</td>\n",
       "      <td>0.0</td>\n",
       "      <td>0.0</td>\n",
       "      <td>0.0</td>\n",
       "      <td>0.0</td>\n",
       "    </tr>\n",
       "    <tr>\n",
       "      <th>1317</th>\n",
       "      <td>Pork and Chive Dumplings with Dried Shrimp</td>\n",
       "      <td>5.000</td>\n",
       "      <td>75.0</td>\n",
       "      <td>3.0</td>\n",
       "      <td>4.0</td>\n",
       "      <td>...</td>\n",
       "      <td>0.0</td>\n",
       "      <td>0.0</td>\n",
       "      <td>0.0</td>\n",
       "      <td>0.0</td>\n",
       "      <td>0.0</td>\n",
       "    </tr>\n",
       "    <tr>\n",
       "      <th>4588</th>\n",
       "      <td>Gingered Vegetable Stir-Fry</td>\n",
       "      <td>3.750</td>\n",
       "      <td>91.0</td>\n",
       "      <td>2.0</td>\n",
       "      <td>5.0</td>\n",
       "      <td>...</td>\n",
       "      <td>0.0</td>\n",
       "      <td>0.0</td>\n",
       "      <td>0.0</td>\n",
       "      <td>0.0</td>\n",
       "      <td>0.0</td>\n",
       "    </tr>\n",
       "    <tr>\n",
       "      <th>10302</th>\n",
       "      <td>Stir-Fried Bok Choy</td>\n",
       "      <td>3.750</td>\n",
       "      <td>61.0</td>\n",
       "      <td>2.0</td>\n",
       "      <td>4.0</td>\n",
       "      <td>...</td>\n",
       "      <td>0.0</td>\n",
       "      <td>0.0</td>\n",
       "      <td>0.0</td>\n",
       "      <td>0.0</td>\n",
       "      <td>0.0</td>\n",
       "    </tr>\n",
       "    <tr>\n",
       "      <th>7310</th>\n",
       "      <td>Chilled Cinnamon-Ginger Tea (Soojong Gwa)</td>\n",
       "      <td>3.750</td>\n",
       "      <td>11.0</td>\n",
       "      <td>0.0</td>\n",
       "      <td>0.0</td>\n",
       "      <td>...</td>\n",
       "      <td>0.0</td>\n",
       "      <td>0.0</td>\n",
       "      <td>0.0</td>\n",
       "      <td>0.0</td>\n",
       "      <td>0.0</td>\n",
       "    </tr>\n",
       "    <tr>\n",
       "      <th>15759</th>\n",
       "      <td>Steamed Fish with Scallions and Ginger</td>\n",
       "      <td>4.375</td>\n",
       "      <td>NaN</td>\n",
       "      <td>NaN</td>\n",
       "      <td>NaN</td>\n",
       "      <td>...</td>\n",
       "      <td>0.0</td>\n",
       "      <td>0.0</td>\n",
       "      <td>0.0</td>\n",
       "      <td>0.0</td>\n",
       "      <td>0.0</td>\n",
       "    </tr>\n",
       "    <tr>\n",
       "      <th>18332</th>\n",
       "      <td>Thai Shrimp Halibut Curry</td>\n",
       "      <td>4.375</td>\n",
       "      <td>NaN</td>\n",
       "      <td>NaN</td>\n",
       "      <td>NaN</td>\n",
       "      <td>...</td>\n",
       "      <td>0.0</td>\n",
       "      <td>0.0</td>\n",
       "      <td>0.0</td>\n",
       "      <td>0.0</td>\n",
       "      <td>0.0</td>\n",
       "    </tr>\n",
       "  </tbody>\n",
       "</table>\n",
       "<p>44 rows × 680 columns</p>\n",
       "</div>"
      ],
      "text/plain": [
       "                                                   title  rating  calories  \\\n",
       "9134       Twice-Cooked Five-Spice Lamb with Red Chiles    4.375     959.0   \n",
       "19875              Peanut-Crusted Lamb with Hunan Sauce    4.375    2588.0   \n",
       "16350    Poached Chicken with Ginger and Scallion Sauce    4.375    1124.0   \n",
       "16809                  Steamed Fish with Lime and Chile    5.000     461.0   \n",
       "19929  Braised Chicken with Smoked Ham, Chestnuts, an...   4.375     936.0   \n",
       "10622  Spicy Braised Chicken with Mushrooms and Star ...   4.375     578.0   \n",
       "1003                  Chicken Curry with Sweet Potatoes    5.000     591.0   \n",
       "10559                                 Easy Beef Lo Mein    4.375     687.0   \n",
       "16778                            Chicken with Chestnuts    3.750     726.0   \n",
       "1799              Chicken Lo Mein with Ginger Mushrooms    3.750     833.0   \n",
       "...                                                  ...     ...       ...   \n",
       "11458                                    Pork Dumplings    4.375      75.0   \n",
       "2238                       Shrimp and Pork Pot Stickers    5.000      93.0   \n",
       "2439                     Chocolate Kumquat Spring Rolls    3.750     243.0   \n",
       "17380  Crispy Spring Rolls with Spicy Tofu, Vegetable...   4.375      74.0   \n",
       "1317         Pork and Chive Dumplings with Dried Shrimp    5.000      75.0   \n",
       "4588                        Gingered Vegetable Stir-Fry    3.750      91.0   \n",
       "10302                               Stir-Fried Bok Choy    3.750      61.0   \n",
       "7310          Chilled Cinnamon-Ginger Tea (Soojong Gwa)    3.750      11.0   \n",
       "15759            Steamed Fish with Scallions and Ginger    4.375       NaN   \n",
       "18332                         Thai Shrimp Halibut Curry    4.375       NaN   \n",
       "\n",
       "       protein    fat   ...    cookbooks  leftovers  snack  snack week  turkey  \n",
       "9134      82.0   58.0   ...          0.0        0.0    0.0         0.0     0.0  \n",
       "19875     81.0  234.0   ...          0.0        0.0    0.0         0.0     0.0  \n",
       "16350     75.0   87.0   ...          0.0        0.0    0.0         0.0     0.0  \n",
       "16809     74.0   10.0   ...          0.0        0.0    0.0         0.0     0.0  \n",
       "19929     70.0   55.0   ...          0.0        0.0    0.0         0.0     0.0  \n",
       "10622     55.0   27.0   ...          0.0        0.0    0.0         0.0     0.0  \n",
       "1003      54.0   21.0   ...          0.0        0.0    0.0         0.0     0.0  \n",
       "10559     48.0   25.0   ...          0.0        0.0    0.0         0.0     0.0  \n",
       "16778     43.0   49.0   ...          0.0        0.0    0.0         0.0     0.0  \n",
       "1799      38.0   37.0   ...          0.0        0.0    0.0         0.0     0.0  \n",
       "...        ...    ...   ...          ...        ...    ...         ...     ...  \n",
       "11458      4.0    2.0   ...          0.0        0.0    0.0         0.0     0.0  \n",
       "2238       4.0    2.0   ...          0.0        0.0    0.0         0.0     0.0  \n",
       "2439       3.0   21.0   ...          0.0        0.0    0.0         0.0     0.0  \n",
       "17380      3.0    4.0   ...          0.0        0.0    0.0         0.0     0.0  \n",
       "1317       3.0    4.0   ...          0.0        0.0    0.0         0.0     0.0  \n",
       "4588       2.0    5.0   ...          0.0        0.0    0.0         0.0     0.0  \n",
       "10302      2.0    4.0   ...          0.0        0.0    0.0         0.0     0.0  \n",
       "7310       0.0    0.0   ...          0.0        0.0    0.0         0.0     0.0  \n",
       "15759      NaN    NaN   ...          0.0        0.0    0.0         0.0     0.0  \n",
       "18332      NaN    NaN   ...          0.0        0.0    0.0         0.0     0.0  \n",
       "\n",
       "[44 rows x 680 columns]"
      ]
     },
     "execution_count": 33,
     "metadata": {},
     "output_type": "execute_result"
    }
   ],
   "source": [
    "chine.sort_values(\"protein\",ascending=False)"
   ]
  },
  {
   "cell_type": "code",
   "execution_count": 34,
   "metadata": {
    "collapsed": true
   },
   "outputs": [],
   "source": [
    "chine2 = chine[chine.protein > 2.0]"
   ]
  },
  {
   "cell_type": "code",
   "execution_count": 35,
   "metadata": {
    "collapsed": false
   },
   "outputs": [
    {
     "data": {
      "text/plain": [
       "title                   39\n",
       "rating                  39\n",
       "calories                39\n",
       "protein                 39\n",
       "fat                     39\n",
       "sodium                  39\n",
       "#cakeweek               39\n",
       "#wasteless              39\n",
       "22-minute meals         39\n",
       "3-ingredient recipes    39\n",
       "                        ..\n",
       "yellow squash           39\n",
       "yogurt                  39\n",
       "yonkers                 39\n",
       "yuca                    39\n",
       "zucchini                39\n",
       "cookbooks               39\n",
       "leftovers               39\n",
       "snack                   39\n",
       "snack week              39\n",
       "turkey                  39\n",
       "dtype: int64"
      ]
     },
     "execution_count": 35,
     "metadata": {},
     "output_type": "execute_result"
    }
   ],
   "source": [
    "chine2.count()"
   ]
  },
  {
   "cell_type": "code",
   "execution_count": 36,
   "metadata": {
    "collapsed": true
   },
   "outputs": [],
   "source": [
    "#How to see the ingredients in a recipe"
   ]
  },
  {
   "cell_type": "code",
   "execution_count": 37,
   "metadata": {
    "collapsed": false
   },
   "outputs": [
    {
     "data": {
      "text/plain": [
       "Int64Index([12840,  6548, 16213,  8683,  4172, 13099,  1004, 15080,  1003,\n",
       "            16778, 16224,  4588,  2238, 14258,  1317, 10302, 17380,  8024,\n",
       "            13546,  4314, 13375,  1799,   107, 16809, 18373,  9134,   259,\n",
       "            16350,  2439, 15759,  8240,  1047, 10723, 19929, 14874, 10559,\n",
       "            18332, 10622, 19699, 11458, 15961,  7310, 10334, 19875],\n",
       "           dtype='int64')"
      ]
     },
     "execution_count": 37,
     "metadata": {},
     "output_type": "execute_result"
    }
   ],
   "source": [
    "chine.index"
   ]
  },
  {
   "cell_type": "code",
   "execution_count": 38,
   "metadata": {
    "collapsed": false
   },
   "outputs": [
    {
     "data": {
      "text/plain": [
       "pandas.core.frame.DataFrame"
      ]
     },
     "execution_count": 38,
     "metadata": {},
     "output_type": "execute_result"
    }
   ],
   "source": [
    "type(chine)"
   ]
  },
  {
   "cell_type": "code",
   "execution_count": 39,
   "metadata": {
    "collapsed": false
   },
   "outputs": [
    {
     "name": "stdout",
     "output_type": "stream",
     "text": [
      "title                    True\n",
      "rating                   True\n",
      "calories                 True\n",
      "protein                  True\n",
      "fat                      True\n",
      "sodium                   True\n",
      "#cakeweek               False\n",
      "#wasteless              False\n",
      "22-minute meals         False\n",
      "3-ingredient recipes    False\n",
      "                        ...  \n",
      "yellow squash           False\n",
      "yogurt                  False\n",
      "yonkers                 False\n",
      "yuca                    False\n",
      "zucchini                False\n",
      "cookbooks               False\n",
      "leftovers               False\n",
      "snack                   False\n",
      "snack week              False\n",
      "turkey                  False\n",
      "Name: 9134, dtype: bool\n"
     ]
    }
   ],
   "source": [
    "c = df.iloc[9134] > 1\n",
    "\n",
    "print c == True"
   ]
  },
  {
   "cell_type": "code",
   "execution_count": 43,
   "metadata": {
    "collapsed": false
   },
   "outputs": [],
   "source": [
    " df2 = df.loc[:, (df != 0).any(axis=0)]"
   ]
  },
  {
   "cell_type": "code",
   "execution_count": 45,
   "metadata": {
    "collapsed": false
   },
   "outputs": [
    {
     "name": "stdout",
     "output_type": "stream",
     "text": [
      "<class 'pandas.core.frame.DataFrame'>\n",
      "RangeIndex: 20052 entries, 0 to 20051\n",
      "Columns: 680 entries, title to turkey\n",
      "dtypes: float64(679), object(1)\n",
      "memory usage: 104.0+ MB\n"
     ]
    }
   ],
   "source": [
    "df2.info()"
   ]
  },
  {
   "cell_type": "code",
   "execution_count": 205,
   "metadata": {
    "collapsed": false
   },
   "outputs": [
    {
     "name": "stdout",
     "output_type": "stream",
     "text": [
      "<class 'pandas.core.frame.DataFrame'>\n",
      "Int64Index: 44 entries, 12840 to 19875\n",
      "Columns: 680 entries, title to turkey\n",
      "dtypes: float64(679), object(1)\n",
      "memory usage: 233.9+ KB\n",
      "None\n"
     ]
    }
   ],
   "source": [
    "print chine.info()"
   ]
  },
  {
   "cell_type": "code",
   "execution_count": null,
   "metadata": {
    "collapsed": true
   },
   "outputs": [],
   "source": []
  },
  {
   "cell_type": "code",
   "execution_count": 207,
   "metadata": {
    "collapsed": true
   },
   "outputs": [],
   "source": [
    "# clean the dataset. \n",
    "#Combine the bon apetit columns\n",
    "\n",
    "#Group by food vs not food\n",
    "\n"
   ]
  },
  {
   "cell_type": "code",
   "execution_count": null,
   "metadata": {
    "collapsed": true
   },
   "outputs": [],
   "source": []
  }
 ],
 "metadata": {
  "anaconda-cloud": {},
  "kernelspec": {
   "display_name": "Python [conda root]",
   "language": "python",
   "name": "conda-root-py"
  },
  "language_info": {
   "codemirror_mode": {
    "name": "ipython",
    "version": 2
   },
   "file_extension": ".py",
   "mimetype": "text/x-python",
   "name": "python",
   "nbconvert_exporter": "python",
   "pygments_lexer": "ipython2",
   "version": "2.7.12"
  }
 },
 "nbformat": 4,
 "nbformat_minor": 1
}
