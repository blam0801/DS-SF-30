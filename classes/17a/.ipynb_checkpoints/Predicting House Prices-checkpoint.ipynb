{
 "cells": [
  {
   "cell_type": "code",
   "execution_count": 107,
   "metadata": {
    "collapsed": true
   },
   "outputs": [],
   "source": [
    "import os\n",
    "\n",
    "import numpy as np\n",
    "import pandas as pd\n",
    "pd.set_option('display.max_rows', 10)\n",
    "pd.set_option('display.notebook_repr_html', True)\n",
    "pd.set_option('display.max_columns', 10)\n",
    "\n",
    "from sklearn import tree, ensemble, metrics, cross_validation, externals\n",
    "\n",
    "import matplotlib.pyplot as plt\n",
    "%matplotlib inline\n",
    "plt.style.use('ggplot')\n",
    "\n",
    "import statsmodels.api as sm\n",
    "import statsmodels.formula.api as smf"
   ]
  },
  {
   "cell_type": "code",
   "execution_count": 108,
   "metadata": {
    "collapsed": false
   },
   "outputs": [],
   "source": [
    "df = pd.read_csv('dataset-17-ames-housing.csv')"
   ]
  },
  {
   "cell_type": "code",
   "execution_count": 109,
   "metadata": {
    "collapsed": false
   },
   "outputs": [
    {
     "data": {
      "text/html": [
       "<div>\n",
       "<table border=\"1\" class=\"dataframe\">\n",
       "  <thead>\n",
       "    <tr style=\"text-align: right;\">\n",
       "      <th></th>\n",
       "      <th>Order</th>\n",
       "      <th>PID</th>\n",
       "      <th>MS SubClass</th>\n",
       "      <th>MS Zoning</th>\n",
       "      <th>Lot Frontage</th>\n",
       "      <th>...</th>\n",
       "      <th>Mo Sold</th>\n",
       "      <th>Yr Sold</th>\n",
       "      <th>Sale Type</th>\n",
       "      <th>Sale Condition</th>\n",
       "      <th>SalePrice</th>\n",
       "    </tr>\n",
       "  </thead>\n",
       "  <tbody>\n",
       "    <tr>\n",
       "      <th>0</th>\n",
       "      <td>1</td>\n",
       "      <td>526301100</td>\n",
       "      <td>20</td>\n",
       "      <td>RL</td>\n",
       "      <td>141.0</td>\n",
       "      <td>...</td>\n",
       "      <td>5</td>\n",
       "      <td>2010</td>\n",
       "      <td>WD</td>\n",
       "      <td>Normal</td>\n",
       "      <td>215000</td>\n",
       "    </tr>\n",
       "    <tr>\n",
       "      <th>1</th>\n",
       "      <td>2</td>\n",
       "      <td>526350040</td>\n",
       "      <td>20</td>\n",
       "      <td>RH</td>\n",
       "      <td>80.0</td>\n",
       "      <td>...</td>\n",
       "      <td>6</td>\n",
       "      <td>2010</td>\n",
       "      <td>WD</td>\n",
       "      <td>Normal</td>\n",
       "      <td>105000</td>\n",
       "    </tr>\n",
       "    <tr>\n",
       "      <th>2</th>\n",
       "      <td>3</td>\n",
       "      <td>526351010</td>\n",
       "      <td>20</td>\n",
       "      <td>RL</td>\n",
       "      <td>81.0</td>\n",
       "      <td>...</td>\n",
       "      <td>6</td>\n",
       "      <td>2010</td>\n",
       "      <td>WD</td>\n",
       "      <td>Normal</td>\n",
       "      <td>172000</td>\n",
       "    </tr>\n",
       "    <tr>\n",
       "      <th>3</th>\n",
       "      <td>4</td>\n",
       "      <td>526353030</td>\n",
       "      <td>20</td>\n",
       "      <td>RL</td>\n",
       "      <td>93.0</td>\n",
       "      <td>...</td>\n",
       "      <td>4</td>\n",
       "      <td>2010</td>\n",
       "      <td>WD</td>\n",
       "      <td>Normal</td>\n",
       "      <td>244000</td>\n",
       "    </tr>\n",
       "    <tr>\n",
       "      <th>4</th>\n",
       "      <td>5</td>\n",
       "      <td>527105010</td>\n",
       "      <td>60</td>\n",
       "      <td>RL</td>\n",
       "      <td>74.0</td>\n",
       "      <td>...</td>\n",
       "      <td>3</td>\n",
       "      <td>2010</td>\n",
       "      <td>WD</td>\n",
       "      <td>Normal</td>\n",
       "      <td>189900</td>\n",
       "    </tr>\n",
       "    <tr>\n",
       "      <th>...</th>\n",
       "      <td>...</td>\n",
       "      <td>...</td>\n",
       "      <td>...</td>\n",
       "      <td>...</td>\n",
       "      <td>...</td>\n",
       "      <td>...</td>\n",
       "      <td>...</td>\n",
       "      <td>...</td>\n",
       "      <td>...</td>\n",
       "      <td>...</td>\n",
       "      <td>...</td>\n",
       "    </tr>\n",
       "    <tr>\n",
       "      <th>2925</th>\n",
       "      <td>2926</td>\n",
       "      <td>923275080</td>\n",
       "      <td>80</td>\n",
       "      <td>RL</td>\n",
       "      <td>37.0</td>\n",
       "      <td>...</td>\n",
       "      <td>3</td>\n",
       "      <td>2006</td>\n",
       "      <td>WD</td>\n",
       "      <td>Normal</td>\n",
       "      <td>142500</td>\n",
       "    </tr>\n",
       "    <tr>\n",
       "      <th>2926</th>\n",
       "      <td>2927</td>\n",
       "      <td>923276100</td>\n",
       "      <td>20</td>\n",
       "      <td>RL</td>\n",
       "      <td>NaN</td>\n",
       "      <td>...</td>\n",
       "      <td>6</td>\n",
       "      <td>2006</td>\n",
       "      <td>WD</td>\n",
       "      <td>Normal</td>\n",
       "      <td>131000</td>\n",
       "    </tr>\n",
       "    <tr>\n",
       "      <th>2927</th>\n",
       "      <td>2928</td>\n",
       "      <td>923400125</td>\n",
       "      <td>85</td>\n",
       "      <td>RL</td>\n",
       "      <td>62.0</td>\n",
       "      <td>...</td>\n",
       "      <td>7</td>\n",
       "      <td>2006</td>\n",
       "      <td>WD</td>\n",
       "      <td>Normal</td>\n",
       "      <td>132000</td>\n",
       "    </tr>\n",
       "    <tr>\n",
       "      <th>2928</th>\n",
       "      <td>2929</td>\n",
       "      <td>924100070</td>\n",
       "      <td>20</td>\n",
       "      <td>RL</td>\n",
       "      <td>77.0</td>\n",
       "      <td>...</td>\n",
       "      <td>4</td>\n",
       "      <td>2006</td>\n",
       "      <td>WD</td>\n",
       "      <td>Normal</td>\n",
       "      <td>170000</td>\n",
       "    </tr>\n",
       "    <tr>\n",
       "      <th>2929</th>\n",
       "      <td>2930</td>\n",
       "      <td>924151050</td>\n",
       "      <td>60</td>\n",
       "      <td>RL</td>\n",
       "      <td>74.0</td>\n",
       "      <td>...</td>\n",
       "      <td>11</td>\n",
       "      <td>2006</td>\n",
       "      <td>WD</td>\n",
       "      <td>Normal</td>\n",
       "      <td>188000</td>\n",
       "    </tr>\n",
       "  </tbody>\n",
       "</table>\n",
       "<p>2930 rows × 82 columns</p>\n",
       "</div>"
      ],
      "text/plain": [
       "      Order        PID  MS SubClass MS Zoning  Lot Frontage    ...     \\\n",
       "0         1  526301100           20        RL         141.0    ...      \n",
       "1         2  526350040           20        RH          80.0    ...      \n",
       "2         3  526351010           20        RL          81.0    ...      \n",
       "3         4  526353030           20        RL          93.0    ...      \n",
       "4         5  527105010           60        RL          74.0    ...      \n",
       "...     ...        ...          ...       ...           ...    ...      \n",
       "2925   2926  923275080           80        RL          37.0    ...      \n",
       "2926   2927  923276100           20        RL           NaN    ...      \n",
       "2927   2928  923400125           85        RL          62.0    ...      \n",
       "2928   2929  924100070           20        RL          77.0    ...      \n",
       "2929   2930  924151050           60        RL          74.0    ...      \n",
       "\n",
       "      Mo Sold Yr Sold Sale Type Sale Condition SalePrice  \n",
       "0           5    2010       WD          Normal    215000  \n",
       "1           6    2010       WD          Normal    105000  \n",
       "2           6    2010       WD          Normal    172000  \n",
       "3           4    2010       WD          Normal    244000  \n",
       "4           3    2010       WD          Normal    189900  \n",
       "...       ...     ...       ...            ...       ...  \n",
       "2925        3    2006       WD          Normal    142500  \n",
       "2926        6    2006       WD          Normal    131000  \n",
       "2927        7    2006       WD          Normal    132000  \n",
       "2928        4    2006       WD          Normal    170000  \n",
       "2929       11    2006       WD          Normal    188000  \n",
       "\n",
       "[2930 rows x 82 columns]"
      ]
     },
     "execution_count": 109,
     "metadata": {},
     "output_type": "execute_result"
    }
   ],
   "source": [
    "df"
   ]
  },
  {
   "cell_type": "code",
   "execution_count": 110,
   "metadata": {
    "collapsed": false
   },
   "outputs": [
    {
     "data": {
      "text/plain": [
       "Index([u'Order', u'PID', u'MS SubClass', u'MS Zoning', u'Lot Frontage',\n",
       "       u'Lot Area', u'Street', u'Alley', u'Lot Shape', u'Land Contour',\n",
       "       u'Utilities', u'Lot Config', u'Land Slope', u'Neighborhood',\n",
       "       u'Condition 1', u'Condition 2', u'Bldg Type', u'House Style',\n",
       "       u'Overall Qual', u'Overall Cond', u'Year Built', u'Year Remod/Add',\n",
       "       u'Roof Style', u'Roof Matl', u'Exterior 1st', u'Exterior 2nd',\n",
       "       u'Mas Vnr Type', u'Mas Vnr Area', u'Exter Qual', u'Exter Cond',\n",
       "       u'Foundation', u'Bsmt Qual', u'Bsmt Cond', u'Bsmt Exposure',\n",
       "       u'BsmtFin Type 1', u'BsmtFin SF 1', u'BsmtFin Type 2', u'BsmtFin SF 2',\n",
       "       u'Bsmt Unf SF', u'Total Bsmt SF', u'Heating', u'Heating QC',\n",
       "       u'Central Air', u'Electrical', u'1st Flr SF', u'2nd Flr SF',\n",
       "       u'Low Qual Fin SF', u'Gr Liv Area', u'Bsmt Full Bath',\n",
       "       u'Bsmt Half Bath', u'Full Bath', u'Half Bath', u'Bedroom AbvGr',\n",
       "       u'Kitchen AbvGr', u'Kitchen Qual', u'TotRms AbvGrd', u'Functional',\n",
       "       u'Fireplaces', u'Fireplace Qu', u'Garage Type', u'Garage Yr Blt',\n",
       "       u'Garage Finish', u'Garage Cars', u'Garage Area', u'Garage Qual',\n",
       "       u'Garage Cond', u'Paved Drive', u'Wood Deck SF', u'Open Porch SF',\n",
       "       u'Enclosed Porch', u'3Ssn Porch', u'Screen Porch', u'Pool Area',\n",
       "       u'Pool QC', u'Fence', u'Misc Feature', u'Misc Val', u'Mo Sold',\n",
       "       u'Yr Sold', u'Sale Type', u'Sale Condition', u'SalePrice'],\n",
       "      dtype='object')"
      ]
     },
     "execution_count": 110,
     "metadata": {},
     "output_type": "execute_result"
    }
   ],
   "source": [
    "df.columns"
   ]
  },
  {
   "cell_type": "markdown",
   "metadata": {},
   "source": [
    "## EDA & Data Cleansing"
   ]
  },
  {
   "cell_type": "code",
   "execution_count": 111,
   "metadata": {
    "collapsed": false
   },
   "outputs": [
    {
     "data": {
      "text/html": [
       "<div>\n",
       "<table border=\"1\" class=\"dataframe\">\n",
       "  <thead>\n",
       "    <tr style=\"text-align: right;\">\n",
       "      <th></th>\n",
       "      <th>Order</th>\n",
       "      <th>Lot Area</th>\n",
       "      <th>1st Flr SF</th>\n",
       "      <th>2nd Flr SF</th>\n",
       "      <th>SalePrice</th>\n",
       "    </tr>\n",
       "  </thead>\n",
       "  <tbody>\n",
       "    <tr>\n",
       "      <th>0</th>\n",
       "      <td>1</td>\n",
       "      <td>31770</td>\n",
       "      <td>1656</td>\n",
       "      <td>0</td>\n",
       "      <td>215000</td>\n",
       "    </tr>\n",
       "    <tr>\n",
       "      <th>1</th>\n",
       "      <td>2</td>\n",
       "      <td>11622</td>\n",
       "      <td>896</td>\n",
       "      <td>0</td>\n",
       "      <td>105000</td>\n",
       "    </tr>\n",
       "    <tr>\n",
       "      <th>2</th>\n",
       "      <td>3</td>\n",
       "      <td>14267</td>\n",
       "      <td>1329</td>\n",
       "      <td>0</td>\n",
       "      <td>172000</td>\n",
       "    </tr>\n",
       "    <tr>\n",
       "      <th>3</th>\n",
       "      <td>4</td>\n",
       "      <td>11160</td>\n",
       "      <td>2110</td>\n",
       "      <td>0</td>\n",
       "      <td>244000</td>\n",
       "    </tr>\n",
       "    <tr>\n",
       "      <th>4</th>\n",
       "      <td>5</td>\n",
       "      <td>13830</td>\n",
       "      <td>928</td>\n",
       "      <td>701</td>\n",
       "      <td>189900</td>\n",
       "    </tr>\n",
       "    <tr>\n",
       "      <th>...</th>\n",
       "      <td>...</td>\n",
       "      <td>...</td>\n",
       "      <td>...</td>\n",
       "      <td>...</td>\n",
       "      <td>...</td>\n",
       "    </tr>\n",
       "    <tr>\n",
       "      <th>2925</th>\n",
       "      <td>2926</td>\n",
       "      <td>7937</td>\n",
       "      <td>1003</td>\n",
       "      <td>0</td>\n",
       "      <td>142500</td>\n",
       "    </tr>\n",
       "    <tr>\n",
       "      <th>2926</th>\n",
       "      <td>2927</td>\n",
       "      <td>8885</td>\n",
       "      <td>902</td>\n",
       "      <td>0</td>\n",
       "      <td>131000</td>\n",
       "    </tr>\n",
       "    <tr>\n",
       "      <th>2927</th>\n",
       "      <td>2928</td>\n",
       "      <td>10441</td>\n",
       "      <td>970</td>\n",
       "      <td>0</td>\n",
       "      <td>132000</td>\n",
       "    </tr>\n",
       "    <tr>\n",
       "      <th>2928</th>\n",
       "      <td>2929</td>\n",
       "      <td>10010</td>\n",
       "      <td>1389</td>\n",
       "      <td>0</td>\n",
       "      <td>170000</td>\n",
       "    </tr>\n",
       "    <tr>\n",
       "      <th>2929</th>\n",
       "      <td>2930</td>\n",
       "      <td>9627</td>\n",
       "      <td>996</td>\n",
       "      <td>1004</td>\n",
       "      <td>188000</td>\n",
       "    </tr>\n",
       "  </tbody>\n",
       "</table>\n",
       "<p>2930 rows × 5 columns</p>\n",
       "</div>"
      ],
      "text/plain": [
       "      Order  Lot Area  1st Flr SF  2nd Flr SF  SalePrice\n",
       "0         1     31770        1656           0     215000\n",
       "1         2     11622         896           0     105000\n",
       "2         3     14267        1329           0     172000\n",
       "3         4     11160        2110           0     244000\n",
       "4         5     13830         928         701     189900\n",
       "...     ...       ...         ...         ...        ...\n",
       "2925   2926      7937        1003           0     142500\n",
       "2926   2927      8885         902           0     131000\n",
       "2927   2928     10441         970           0     132000\n",
       "2928   2929     10010        1389           0     170000\n",
       "2929   2930      9627         996        1004     188000\n",
       "\n",
       "[2930 rows x 5 columns]"
      ]
     },
     "execution_count": 111,
     "metadata": {},
     "output_type": "execute_result"
    }
   ],
   "source": [
    "df [['Order', 'Lot Area', '1st Flr SF', '2nd Flr SF', 'SalePrice' ]]"
   ]
  },
  {
   "cell_type": "code",
   "execution_count": 112,
   "metadata": {
    "collapsed": false
   },
   "outputs": [
    {
     "data": {
      "text/plain": [
       "<matplotlib.collections.PathCollection at 0x116d2b50>"
      ]
     },
     "execution_count": 112,
     "metadata": {},
     "output_type": "execute_result"
    },
    {
     "data": {
      "image/png": "[encoded data removed]",
      "text/plain": [
       "<matplotlib.figure.Figure at 0x119d8890>"
      ]
     },
     "metadata": {},
     "output_type": "display_data"
    }
   ],
   "source": [
    "x = df['Lot Area']\n",
    "y = df['SalePrice']\n",
    "fig = plt.figure()\n",
    "\n",
    "ax2 = fig.add_subplot(121)\n",
    "ax2.scatter(x,y)"
   ]
  },
  {
   "cell_type": "code",
   "execution_count": 113,
   "metadata": {
    "collapsed": false
   },
   "outputs": [],
   "source": [
    "df.columns = df.columns.str.replace(' ', '_')"
   ]
  },
  {
   "cell_type": "code",
   "execution_count": 114,
   "metadata": {
    "collapsed": false
   },
   "outputs": [
    {
     "data": {
      "text/plain": [
       "Index([u'Order', u'PID', u'MS_SubClass', u'MS_Zoning', u'Lot_Frontage',\n",
       "       u'Lot_Area', u'Street', u'Alley', u'Lot_Shape', u'Land_Contour',\n",
       "       u'Utilities', u'Lot_Config', u'Land_Slope', u'Neighborhood',\n",
       "       u'Condition_1', u'Condition_2', u'Bldg_Type', u'House_Style',\n",
       "       u'Overall_Qual', u'Overall_Cond', u'Year_Built', u'Year_Remod/Add',\n",
       "       u'Roof_Style', u'Roof_Matl', u'Exterior_1st', u'Exterior_2nd',\n",
       "       u'Mas_Vnr_Type', u'Mas_Vnr_Area', u'Exter_Qual', u'Exter_Cond',\n",
       "       u'Foundation', u'Bsmt_Qual', u'Bsmt_Cond', u'Bsmt_Exposure',\n",
       "       u'BsmtFin_Type_1', u'BsmtFin_SF_1', u'BsmtFin_Type_2', u'BsmtFin_SF_2',\n",
       "       u'Bsmt_Unf_SF', u'Total_Bsmt_SF', u'Heating', u'Heating_QC',\n",
       "       u'Central_Air', u'Electrical', u'1st_Flr_SF', u'2nd_Flr_SF',\n",
       "       u'Low_Qual_Fin_SF', u'Gr_Liv_Area', u'Bsmt_Full_Bath',\n",
       "       u'Bsmt_Half_Bath', u'Full_Bath', u'Half_Bath', u'Bedroom_AbvGr',\n",
       "       u'Kitchen_AbvGr', u'Kitchen_Qual', u'TotRms_AbvGrd', u'Functional',\n",
       "       u'Fireplaces', u'Fireplace_Qu', u'Garage_Type', u'Garage_Yr_Blt',\n",
       "       u'Garage_Finish', u'Garage_Cars', u'Garage_Area', u'Garage_Qual',\n",
       "       u'Garage_Cond', u'Paved_Drive', u'Wood_Deck_SF', u'Open_Porch_SF',\n",
       "       u'Enclosed_Porch', u'3Ssn_Porch', u'Screen_Porch', u'Pool_Area',\n",
       "       u'Pool_QC', u'Fence', u'Misc_Feature', u'Misc_Val', u'Mo_Sold',\n",
       "       u'Yr_Sold', u'Sale_Type', u'Sale_Condition', u'SalePrice'],\n",
       "      dtype='object')"
      ]
     },
     "execution_count": 114,
     "metadata": {},
     "output_type": "execute_result"
    }
   ],
   "source": [
    "df.columns"
   ]
  },
  {
   "cell_type": "markdown",
   "metadata": {},
   "source": [
    "## Creating a Train and Test Set"
   ]
  },
  {
   "cell_type": "code",
   "execution_count": 119,
   "metadata": {
    "collapsed": true
   },
   "outputs": [],
   "source": [
    "train_df = df.sample(frac = .6, random_state = 0)\n",
    "test_df = df.drop(train_df.index)"
   ]
  },
  {
   "cell_type": "code",
   "execution_count": 120,
   "metadata": {
    "collapsed": false
   },
   "outputs": [],
   "source": [
    "#Second way \n",
    "#X  = df [['Lot_Frontage', 'BsmtFin_SF_1', 'Garage_Area', 'Garage_Cars', 'Pool_Area', 'Misc_Val', 'Low_Qual_Fin_SF', 'Total_Bsmt_SF', 'Bsmt_Unf_SF', 'Year_Built', 'Lot_Area', 'Mas_Vnr_Area', 'Gr_Liv_Area']]\n",
    "#Y = df.SalePrice\n",
    "\n",
    "\n",
    "#train_X, test_X, train_y, test_y = cross_validation.train_test_split(X, y, train_size = .6, random_state = 0)"
   ]
  },
  {
   "cell_type": "markdown",
   "metadata": {},
   "source": [
    "## Correlation"
   ]
  },
  {
   "cell_type": "code",
   "execution_count": 122,
   "metadata": {
    "collapsed": false
   },
   "outputs": [
    {
     "data": {
      "text/html": [
       "<div>\n",
       "<table border=\"1\" class=\"dataframe\">\n",
       "  <thead>\n",
       "    <tr style=\"text-align: right;\">\n",
       "      <th></th>\n",
       "      <th>Order</th>\n",
       "      <th>Lot_Area</th>\n",
       "      <th>1st_Flr_SF</th>\n",
       "      <th>2nd_Flr_SF</th>\n",
       "    </tr>\n",
       "  </thead>\n",
       "  <tbody>\n",
       "    <tr>\n",
       "      <th>Order</th>\n",
       "      <td>1.000000</td>\n",
       "      <td>0.043054</td>\n",
       "      <td>0.015723</td>\n",
       "      <td>-0.007275</td>\n",
       "    </tr>\n",
       "    <tr>\n",
       "      <th>Lot_Area</th>\n",
       "      <td>0.043054</td>\n",
       "      <td>1.000000</td>\n",
       "      <td>0.346964</td>\n",
       "      <td>0.057655</td>\n",
       "    </tr>\n",
       "    <tr>\n",
       "      <th>1st_Flr_SF</th>\n",
       "      <td>0.015723</td>\n",
       "      <td>0.346964</td>\n",
       "      <td>1.000000</td>\n",
       "      <td>-0.244141</td>\n",
       "    </tr>\n",
       "    <tr>\n",
       "      <th>2nd_Flr_SF</th>\n",
       "      <td>-0.007275</td>\n",
       "      <td>0.057655</td>\n",
       "      <td>-0.244141</td>\n",
       "      <td>1.000000</td>\n",
       "    </tr>\n",
       "  </tbody>\n",
       "</table>\n",
       "</div>"
      ],
      "text/plain": [
       "               Order  Lot_Area  1st_Flr_SF  2nd_Flr_SF\n",
       "Order       1.000000  0.043054    0.015723   -0.007275\n",
       "Lot_Area    0.043054  1.000000    0.346964    0.057655\n",
       "1st_Flr_SF  0.015723  0.346964    1.000000   -0.244141\n",
       "2nd_Flr_SF -0.007275  0.057655   -0.244141    1.000000"
      ]
     },
     "execution_count": 122,
     "metadata": {},
     "output_type": "execute_result"
    }
   ],
   "source": [
    "train_df [['Order', 'Lot_Area', '1st_Flr_SF', '2nd_Flr_SF']].corr()"
   ]
  },
  {
   "cell_type": "code",
   "execution_count": 127,
   "metadata": {
    "collapsed": false
   },
   "outputs": [
    {
     "name": "stderr",
     "output_type": "stream",
     "text": [
      "C:\\Users\\brandon.lam\\AppData\\Local\\Continuum\\Anaconda2\\lib\\site-packages\\ipykernel\\__main__.py:2: FutureWarning: order is deprecated, use sort_values(...)\n",
      "  from ipykernel import kernelapp as app\n"
     ]
    },
    {
     "data": {
      "text/plain": [
       "SalePrice         1.000000\n",
       "Overall_Qual      0.799262\n",
       "Gr_Liv_Area       0.706780\n",
       "Garage_Cars       0.647877\n",
       "Garage_Area       0.640401\n",
       "                    ...   \n",
       "MS_SubClass      -0.085092\n",
       "Overall_Cond     -0.101697\n",
       "Kitchen_AbvGr    -0.119814\n",
       "Enclosed_Porch   -0.128787\n",
       "PID              -0.246521\n",
       "Name: SalePrice, dtype: float64"
      ]
     },
     "execution_count": 127,
     "metadata": {},
     "output_type": "execute_result"
    }
   ],
   "source": [
    "corr_df = df.corr()\n",
    "corr_df['SalePrice'].order(ascending = False)"
   ]
  },
  {
   "cell_type": "code",
   "execution_count": 124,
   "metadata": {
    "collapsed": false
   },
   "outputs": [
    {
     "data": {
      "text/html": [
       "<table class=\"simpletable\">\n",
       "<caption>OLS Regression Results</caption>\n",
       "<tr>\n",
       "  <th>Dep. Variable:</th>        <td>SalePrice</td>    <th>  R-squared:         </th> <td>   0.653</td> \n",
       "</tr>\n",
       "<tr>\n",
       "  <th>Model:</th>                   <td>OLS</td>       <th>  Adj. R-squared:    </th> <td>   0.653</td> \n",
       "</tr>\n",
       "<tr>\n",
       "  <th>Method:</th>             <td>Least Squares</td>  <th>  F-statistic:       </th> <td>   1101.</td> \n",
       "</tr>\n",
       "<tr>\n",
       "  <th>Date:</th>             <td>Thu, 09 Feb 2017</td> <th>  Prob (F-statistic):</th>  <td>  0.00</td>  \n",
       "</tr>\n",
       "<tr>\n",
       "  <th>Time:</th>                 <td>19:51:57</td>     <th>  Log-Likelihood:    </th> <td> -21398.</td> \n",
       "</tr>\n",
       "<tr>\n",
       "  <th>No. Observations:</th>      <td>  1757</td>      <th>  AIC:               </th> <td>4.280e+04</td>\n",
       "</tr>\n",
       "<tr>\n",
       "  <th>Df Residuals:</th>          <td>  1753</td>      <th>  BIC:               </th> <td>4.283e+04</td>\n",
       "</tr>\n",
       "<tr>\n",
       "  <th>Df Model:</th>              <td>     3</td>      <th>                     </th>     <td> </td>    \n",
       "</tr>\n",
       "<tr>\n",
       "  <th>Covariance Type:</th>      <td>nonrobust</td>    <th>                     </th>     <td> </td>    \n",
       "</tr>\n",
       "</table>\n",
       "<table class=\"simpletable\">\n",
       "<tr>\n",
       "        <td></td>           <th>coef</th>     <th>std err</th>      <th>t</th>      <th>P>|t|</th> <th>[95.0% Conf. Int.]</th> \n",
       "</tr>\n",
       "<tr>\n",
       "  <th>Intercept</th>     <td>-2.559e+04</td> <td> 3813.382</td> <td>   -6.709</td> <td> 0.000</td> <td>-3.31e+04 -1.81e+04</td>\n",
       "</tr>\n",
       "<tr>\n",
       "  <th>Lot_Area</th>      <td>    0.0798</td> <td>    0.187</td> <td>    0.426</td> <td> 0.670</td> <td>   -0.287     0.447</td>\n",
       "</tr>\n",
       "<tr>\n",
       "  <th>Total_Bsmt_SF</th> <td>   71.4689</td> <td>    2.929</td> <td>   24.397</td> <td> 0.000</td> <td>   65.723    77.215</td>\n",
       "</tr>\n",
       "<tr>\n",
       "  <th>Gr_Liv_Area</th>   <td>   87.4185</td> <td>    2.531</td> <td>   34.543</td> <td> 0.000</td> <td>   82.455    92.382</td>\n",
       "</tr>\n",
       "</table>\n",
       "<table class=\"simpletable\">\n",
       "<tr>\n",
       "  <th>Omnibus:</th>       <td>726.677</td> <th>  Durbin-Watson:     </th> <td>   2.046</td> \n",
       "</tr>\n",
       "<tr>\n",
       "  <th>Prob(Omnibus):</th> <td> 0.000</td>  <th>  Jarque-Bera (JB):  </th> <td>32438.345</td>\n",
       "</tr>\n",
       "<tr>\n",
       "  <th>Skew:</th>          <td>-1.200</td>  <th>  Prob(JB):          </th> <td>    0.00</td> \n",
       "</tr>\n",
       "<tr>\n",
       "  <th>Kurtosis:</th>      <td>23.913</td>  <th>  Cond. No.          </th> <td>4.04e+04</td> \n",
       "</tr>\n",
       "</table>"
      ],
      "text/plain": [
       "<class 'statsmodels.iolib.summary.Summary'>\n",
       "\"\"\"\n",
       "                            OLS Regression Results                            \n",
       "==============================================================================\n",
       "Dep. Variable:              SalePrice   R-squared:                       0.653\n",
       "Model:                            OLS   Adj. R-squared:                  0.653\n",
       "Method:                 Least Squares   F-statistic:                     1101.\n",
       "Date:                Thu, 09 Feb 2017   Prob (F-statistic):               0.00\n",
       "Time:                        19:51:57   Log-Likelihood:                -21398.\n",
       "No. Observations:                1757   AIC:                         4.280e+04\n",
       "Df Residuals:                    1753   BIC:                         4.283e+04\n",
       "Df Model:                           3                                         \n",
       "Covariance Type:            nonrobust                                         \n",
       "=================================================================================\n",
       "                    coef    std err          t      P>|t|      [95.0% Conf. Int.]\n",
       "---------------------------------------------------------------------------------\n",
       "Intercept     -2.559e+04   3813.382     -6.709      0.000     -3.31e+04 -1.81e+04\n",
       "Lot_Area          0.0798      0.187      0.426      0.670        -0.287     0.447\n",
       "Total_Bsmt_SF    71.4689      2.929     24.397      0.000        65.723    77.215\n",
       "Gr_Liv_Area      87.4185      2.531     34.543      0.000        82.455    92.382\n",
       "==============================================================================\n",
       "Omnibus:                      726.677   Durbin-Watson:                   2.046\n",
       "Prob(Omnibus):                  0.000   Jarque-Bera (JB):            32438.345\n",
       "Skew:                          -1.200   Prob(JB):                         0.00\n",
       "Kurtosis:                      23.913   Cond. No.                     4.04e+04\n",
       "==============================================================================\n",
       "\n",
       "Warnings:\n",
       "[1] Standard Errors assume that the covariance matrix of the errors is correctly specified.\n",
       "[2] The condition number is large, 4.04e+04. This might indicate that there are\n",
       "strong multicollinearity or other numerical problems.\n",
       "\"\"\""
      ]
     },
     "execution_count": 124,
     "metadata": {},
     "output_type": "execute_result"
    }
   ],
   "source": [
    "#Linear regression of Lot_Area + Total_Bsmt_SF _ Gr Live Area \n",
    "\n",
    "smf.ols(formula = 'SalePrice ~ Lot_Area + Total_Bsmt_SF + Gr_Liv_Area', data = train_df).fit().summary()"
   ]
  },
  {
   "cell_type": "code",
   "execution_count": 126,
   "metadata": {
    "collapsed": false
   },
   "outputs": [
    {
     "data": {
      "text/html": [
       "<table class=\"simpletable\">\n",
       "<caption>OLS Regression Results</caption>\n",
       "<tr>\n",
       "  <th>Dep. Variable:</th>        <td>SalePrice</td>    <th>  R-squared:         </th> <td>   0.786</td> \n",
       "</tr>\n",
       "<tr>\n",
       "  <th>Model:</th>                   <td>OLS</td>       <th>  Adj. R-squared:    </th> <td>   0.784</td> \n",
       "</tr>\n",
       "<tr>\n",
       "  <th>Method:</th>             <td>Least Squares</td>  <th>  F-statistic:       </th> <td>   406.0</td> \n",
       "</tr>\n",
       "<tr>\n",
       "  <th>Date:</th>             <td>Thu, 09 Feb 2017</td> <th>  Prob (F-statistic):</th>  <td>  0.00</td>  \n",
       "</tr>\n",
       "<tr>\n",
       "  <th>Time:</th>                 <td>19:52:41</td>     <th>  Log-Likelihood:    </th> <td> -17411.</td> \n",
       "</tr>\n",
       "<tr>\n",
       "  <th>No. Observations:</th>      <td>  1454</td>      <th>  AIC:               </th> <td>3.485e+04</td>\n",
       "</tr>\n",
       "<tr>\n",
       "  <th>Df Residuals:</th>          <td>  1440</td>      <th>  BIC:               </th> <td>3.492e+04</td>\n",
       "</tr>\n",
       "<tr>\n",
       "  <th>Df Model:</th>              <td>    13</td>      <th>                     </th>     <td> </td>    \n",
       "</tr>\n",
       "<tr>\n",
       "  <th>Covariance Type:</th>      <td>nonrobust</td>    <th>                     </th>     <td> </td>    \n",
       "</tr>\n",
       "</table>\n",
       "<table class=\"simpletable\">\n",
       "<tr>\n",
       "         <td></td>            <th>coef</th>     <th>std err</th>      <th>t</th>      <th>P>|t|</th> <th>[95.0% Conf. Int.]</th> \n",
       "</tr>\n",
       "<tr>\n",
       "  <th>Intercept</th>       <td>-1.066e+06</td> <td> 7.91e+04</td> <td>  -13.472</td> <td> 0.000</td> <td>-1.22e+06 -9.11e+05</td>\n",
       "</tr>\n",
       "<tr>\n",
       "  <th>Lot_Frontage</th>    <td>    6.2926</td> <td>   58.914</td> <td>    0.107</td> <td> 0.915</td> <td> -109.273   121.858</td>\n",
       "</tr>\n",
       "<tr>\n",
       "  <th>BsmtFin_SF_1</th>    <td>   24.0428</td> <td>    7.226</td> <td>    3.327</td> <td> 0.001</td> <td>    9.868    38.218</td>\n",
       "</tr>\n",
       "<tr>\n",
       "  <th>Garage_Area</th>     <td>   34.5259</td> <td>   11.065</td> <td>    3.120</td> <td> 0.002</td> <td>   12.820    56.232</td>\n",
       "</tr>\n",
       "<tr>\n",
       "  <th>Garage_Cars</th>     <td> 8447.1573</td> <td> 3186.678</td> <td>    2.651</td> <td> 0.008</td> <td> 2196.130  1.47e+04</td>\n",
       "</tr>\n",
       "<tr>\n",
       "  <th>Pool_Area</th>       <td>   74.7084</td> <td>   33.661</td> <td>    2.219</td> <td> 0.027</td> <td>    8.678   140.739</td>\n",
       "</tr>\n",
       "<tr>\n",
       "  <th>Misc_Val</th>        <td>  -17.9777</td> <td>    1.662</td> <td>  -10.817</td> <td> 0.000</td> <td>  -21.238   -14.717</td>\n",
       "</tr>\n",
       "<tr>\n",
       "  <th>Low_Qual_Fin_SF</th> <td>  -25.5760</td> <td>   23.333</td> <td>   -1.096</td> <td> 0.273</td> <td>  -71.345    20.193</td>\n",
       "</tr>\n",
       "<tr>\n",
       "  <th>Total_Bsmt_SF</th>   <td>   32.9000</td> <td>    7.339</td> <td>    4.483</td> <td> 0.000</td> <td>   18.503    47.297</td>\n",
       "</tr>\n",
       "<tr>\n",
       "  <th>Bsmt_Unf_SF</th>     <td>    1.4665</td> <td>    6.935</td> <td>    0.211</td> <td> 0.833</td> <td>  -12.138    15.070</td>\n",
       "</tr>\n",
       "<tr>\n",
       "  <th>Year_Built</th>      <td>  534.1310</td> <td>   40.849</td> <td>   13.076</td> <td> 0.000</td> <td>  454.001   614.261</td>\n",
       "</tr>\n",
       "<tr>\n",
       "  <th>Lot_Area</th>        <td>    0.8817</td> <td>    0.276</td> <td>    3.192</td> <td> 0.001</td> <td>    0.340     1.424</td>\n",
       "</tr>\n",
       "<tr>\n",
       "  <th>Mas_Vnr_Area</th>    <td>   41.4453</td> <td>    6.682</td> <td>    6.203</td> <td> 0.000</td> <td>   28.338    54.552</td>\n",
       "</tr>\n",
       "<tr>\n",
       "  <th>Gr_Liv_Area</th>     <td>   70.7861</td> <td>    2.682</td> <td>   26.390</td> <td> 0.000</td> <td>   65.524    76.048</td>\n",
       "</tr>\n",
       "</table>\n",
       "<table class=\"simpletable\">\n",
       "<tr>\n",
       "  <th>Omnibus:</th>       <td>400.434</td> <th>  Durbin-Watson:     </th> <td>   2.019</td> \n",
       "</tr>\n",
       "<tr>\n",
       "  <th>Prob(Omnibus):</th> <td> 0.000</td>  <th>  Jarque-Bera (JB):  </th> <td>17690.251</td>\n",
       "</tr>\n",
       "<tr>\n",
       "  <th>Skew:</th>          <td>-0.495</td>  <th>  Prob(JB):          </th> <td>    0.00</td> \n",
       "</tr>\n",
       "<tr>\n",
       "  <th>Kurtosis:</th>      <td>20.059</td>  <th>  Cond. No.          </th> <td>8.51e+05</td> \n",
       "</tr>\n",
       "</table>"
      ],
      "text/plain": [
       "<class 'statsmodels.iolib.summary.Summary'>\n",
       "\"\"\"\n",
       "                            OLS Regression Results                            \n",
       "==============================================================================\n",
       "Dep. Variable:              SalePrice   R-squared:                       0.786\n",
       "Model:                            OLS   Adj. R-squared:                  0.784\n",
       "Method:                 Least Squares   F-statistic:                     406.0\n",
       "Date:                Thu, 09 Feb 2017   Prob (F-statistic):               0.00\n",
       "Time:                        19:52:41   Log-Likelihood:                -17411.\n",
       "No. Observations:                1454   AIC:                         3.485e+04\n",
       "Df Residuals:                    1440   BIC:                         3.492e+04\n",
       "Df Model:                          13                                         \n",
       "Covariance Type:            nonrobust                                         \n",
       "===================================================================================\n",
       "                      coef    std err          t      P>|t|      [95.0% Conf. Int.]\n",
       "-----------------------------------------------------------------------------------\n",
       "Intercept       -1.066e+06   7.91e+04    -13.472      0.000     -1.22e+06 -9.11e+05\n",
       "Lot_Frontage        6.2926     58.914      0.107      0.915      -109.273   121.858\n",
       "BsmtFin_SF_1       24.0428      7.226      3.327      0.001         9.868    38.218\n",
       "Garage_Area        34.5259     11.065      3.120      0.002        12.820    56.232\n",
       "Garage_Cars      8447.1573   3186.678      2.651      0.008      2196.130  1.47e+04\n",
       "Pool_Area          74.7084     33.661      2.219      0.027         8.678   140.739\n",
       "Misc_Val          -17.9777      1.662    -10.817      0.000       -21.238   -14.717\n",
       "Low_Qual_Fin_SF   -25.5760     23.333     -1.096      0.273       -71.345    20.193\n",
       "Total_Bsmt_SF      32.9000      7.339      4.483      0.000        18.503    47.297\n",
       "Bsmt_Unf_SF         1.4665      6.935      0.211      0.833       -12.138    15.070\n",
       "Year_Built        534.1310     40.849     13.076      0.000       454.001   614.261\n",
       "Lot_Area            0.8817      0.276      3.192      0.001         0.340     1.424\n",
       "Mas_Vnr_Area       41.4453      6.682      6.203      0.000        28.338    54.552\n",
       "Gr_Liv_Area        70.7861      2.682     26.390      0.000        65.524    76.048\n",
       "==============================================================================\n",
       "Omnibus:                      400.434   Durbin-Watson:                   2.019\n",
       "Prob(Omnibus):                  0.000   Jarque-Bera (JB):            17690.251\n",
       "Skew:                          -0.495   Prob(JB):                         0.00\n",
       "Kurtosis:                      20.059   Cond. No.                     8.51e+05\n",
       "==============================================================================\n",
       "\n",
       "Warnings:\n",
       "[1] Standard Errors assume that the covariance matrix of the errors is correctly specified.\n",
       "[2] The condition number is large, 8.51e+05. This might indicate that there are\n",
       "strong multicollinearity or other numerical problems.\n",
       "\"\"\""
      ]
     },
     "execution_count": 126,
     "metadata": {},
     "output_type": "execute_result"
    }
   ],
   "source": [
    "smf.ols(formula = 'SalePrice ~ Lot_Frontage + BsmtFin_SF_1 + Garage_Area + Garage_Cars + Pool_Area + Misc_Val + Low_Qual_Fin_SF+ Total_Bsmt_SF + Bsmt_Unf_SF + Year_Built + Lot_Area + Mas_Vnr_Area + Gr_Liv_Area', data = train_df).fit().summary()"
   ]
  },
  {
   "cell_type": "markdown",
   "metadata": {
    "collapsed": true
   },
   "source": [
    "While we have a high r2, by having so many features, it is difficult to pinpoint which feature is contributing most to the fit"
   ]
  },
  {
   "cell_type": "markdown",
   "metadata": {},
   "source": [
    "## Lasso & Regularization "
   ]
  },
  {
   "cell_type": "code",
   "execution_count": 129,
   "metadata": {
    "collapsed": false
   },
   "outputs": [
    {
     "ename": "AttributeError",
     "evalue": "'module' object has no attribute 'Factor'",
     "output_type": "error",
     "traceback": [
      "\u001b[0;31m---------------------------------------------------------------------------\u001b[0m",
      "\u001b[0;31mAttributeError\u001b[0m                            Traceback (most recent call last)",
      "\u001b[0;32m<ipython-input-129-a5eab78bc422>\u001b[0m in \u001b[0;36m<module>\u001b[0;34m()\u001b[0m\n\u001b[1;32m      4\u001b[0m \u001b[1;33m\u001b[0m\u001b[0m\n\u001b[1;32m      5\u001b[0m \u001b[0mdf\u001b[0m\u001b[1;33m[\u001b[0m\u001b[1;34m'Lot_Area'\u001b[0m\u001b[1;33m]\u001b[0m \u001b[1;33m=\u001b[0m \u001b[0mnp\u001b[0m\u001b[1;33m.\u001b[0m\u001b[0mrandom\u001b[0m\u001b[1;33m.\u001b[0m\u001b[0muniform\u001b[0m\u001b[1;33m(\u001b[0m\u001b[1;36m0\u001b[0m\u001b[1;33m,\u001b[0m \u001b[1;36m1\u001b[0m\u001b[1;33m,\u001b[0m \u001b[0mlen\u001b[0m\u001b[1;33m(\u001b[0m\u001b[0mdf\u001b[0m\u001b[1;33m)\u001b[0m\u001b[1;33m)\u001b[0m \u001b[1;33m<=\u001b[0m \u001b[1;36m.75\u001b[0m\u001b[1;33m\u001b[0m\u001b[0m\n\u001b[0;32m----> 6\u001b[0;31m \u001b[0mdf\u001b[0m\u001b[1;33m[\u001b[0m\u001b[1;34m'SalePrice'\u001b[0m\u001b[1;33m]\u001b[0m \u001b[1;33m=\u001b[0m \u001b[0mpd\u001b[0m\u001b[1;33m.\u001b[0m\u001b[0mFactor\u001b[0m\u001b[1;33m(\u001b[0m\u001b[0miris\u001b[0m\u001b[1;33m.\u001b[0m\u001b[0mtarget\u001b[0m\u001b[1;33m,\u001b[0m \u001b[0miris\u001b[0m\u001b[1;33m.\u001b[0m\u001b[0mtarget_names\u001b[0m\u001b[1;33m)\u001b[0m\u001b[1;33m\u001b[0m\u001b[0m\n\u001b[0m\u001b[1;32m      7\u001b[0m \u001b[0mdf\u001b[0m\u001b[1;33m.\u001b[0m\u001b[0mhead\u001b[0m\u001b[1;33m(\u001b[0m\u001b[1;33m)\u001b[0m\u001b[1;33m\u001b[0m\u001b[0m\n\u001b[1;32m      8\u001b[0m \u001b[1;33m\u001b[0m\u001b[0m\n",
      "\u001b[0;31mAttributeError\u001b[0m: 'module' object has no attribute 'Factor'"
     ]
    }
   ],
   "source": [
    "from sklearn.ensemble import RandomForestClassifier\n",
    "import pandas as pd\n",
    "import numpy as np\n",
    "\n",
    "df['Lot_Area'] = np.random.uniform(0, 1, len(df)) <= .75\n",
    "df['SalePrice'] = pd.Factor(iris.target, iris.target_names)\n",
    "df.head()\n",
    "\n",
    "train, test = df[df['Lot_Area']==True], df[df['Lot_Area']==False]\n",
    "\n",
    "features = df.columns[:4]\n",
    "clf = RandomForestClassifier(n_jobs=2)\n",
    "y, _ = pd.factorize(train['SalePrice'])\n",
    "clf.fit(train[features], y)\n",
    "\n",
    "preds = iris.target_names[clf.predict(test[features])]\n",
    "pd.crosstab(test['SalePrice'], preds, rownames=['actual'], colnames=['preds'])"
   ]
  },
  {
   "cell_type": "code",
   "execution_count": null,
   "metadata": {
    "collapsed": true
   },
   "outputs": [],
   "source": []
  }
 ],
 "metadata": {
  "anaconda-cloud": {},
  "kernelspec": {
   "display_name": "Python [conda root]",
   "language": "python",
   "name": "conda-root-py"
  },
  "language_info": {
   "codemirror_mode": {
    "name": "ipython",
    "version": 2
   },
   "file_extension": ".py",
   "mimetype": "text/x-python",
   "name": "python",
   "nbconvert_exporter": "python",
   "pygments_lexer": "ipython2",
   "version": "2.7.12"
  }
 },
 "nbformat": 4,
 "nbformat_minor": 1
}
